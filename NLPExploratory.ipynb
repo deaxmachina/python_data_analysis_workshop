{
 "cells": [
  {
   "cell_type": "code",
   "execution_count": 2,
   "metadata": {},
   "outputs": [],
   "source": [
    "import pandas as pd \n",
    "import numpy as np\n",
    "import json\n",
    "import requests\n",
    "import os \n",
    "from os import makedirs\n",
    "from os.path import join, exists\n",
    "from datetime import date, timedelta\n",
    "\n",
    "import re\n",
    "import string\n",
    "from wordcloud import WordCloud\n",
    "from sklearn.feature_extraction.text import CountVectorizer\n",
    "\n",
    "import spacy\n",
    "nlp = spacy.load(\"en_core_web_sm\")\n",
    "\n",
    "import matplotlib.pyplot as plt\n",
    "import seaborn as sns\n",
    "#sns.set_style('whitegrid')\n",
    "%matplotlib inline\n",
    "\n",
    "import warnings\n",
    "warnings.filterwarnings('ignore')\n",
    "\n",
    "from sklearn.decomposition import LatentDirichletAllocation as LDA\n",
    "from pyLDAvis import sklearn as sklearn_lda\n",
    "import pickle \n",
    "import pyLDAvis\n",
    "\n",
    "from bokeh.io import output_file, show, output_notebook\n",
    "from bokeh.models import ColumnDataSource\n",
    "from bokeh.palettes import Category20b, cividis, inferno\n",
    "from bokeh.plotting import figure\n",
    "from bokeh.transform import factor_cmap"
   ]
  },
  {
   "cell_type": "markdown",
   "metadata": {},
   "source": [
    "# Load Data "
   ]
  },
  {
   "cell_type": "code",
   "execution_count": 3,
   "metadata": {},
   "outputs": [],
   "source": [
    "articles_dir = \"data\""
   ]
  },
  {
   "cell_type": "code",
   "execution_count": 4,
   "metadata": {},
   "outputs": [],
   "source": [
    "df = pd.read_csv(os.path.join(articles_dir,\"df_guardian_nov14.csv\"), index_col=0)"
   ]
  },
  {
   "cell_type": "code",
   "execution_count": 5,
   "metadata": {},
   "outputs": [
    {
     "data": {
      "text/html": [
       "<div>\n",
       "<style scoped>\n",
       "    .dataframe tbody tr th:only-of-type {\n",
       "        vertical-align: middle;\n",
       "    }\n",
       "\n",
       "    .dataframe tbody tr th {\n",
       "        vertical-align: top;\n",
       "    }\n",
       "\n",
       "    .dataframe thead th {\n",
       "        text-align: right;\n",
       "    }\n",
       "</style>\n",
       "<table border=\"1\" class=\"dataframe\">\n",
       "  <thead>\n",
       "    <tr style=\"text-align: right;\">\n",
       "      <th></th>\n",
       "      <th>type</th>\n",
       "      <th>sectionId</th>\n",
       "      <th>sectionName</th>\n",
       "      <th>webPublicationDate</th>\n",
       "      <th>webTitle</th>\n",
       "      <th>webUrl</th>\n",
       "      <th>apiUrl</th>\n",
       "      <th>fields</th>\n",
       "      <th>isHosted</th>\n",
       "      <th>pillarId</th>\n",
       "      <th>pillarName</th>\n",
       "      <th>trailText</th>\n",
       "      <th>full_text</th>\n",
       "      <th>title_subtitle</th>\n",
       "    </tr>\n",
       "    <tr>\n",
       "      <th>id</th>\n",
       "      <th></th>\n",
       "      <th></th>\n",
       "      <th></th>\n",
       "      <th></th>\n",
       "      <th></th>\n",
       "      <th></th>\n",
       "      <th></th>\n",
       "      <th></th>\n",
       "      <th></th>\n",
       "      <th></th>\n",
       "      <th></th>\n",
       "      <th></th>\n",
       "      <th></th>\n",
       "      <th></th>\n",
       "    </tr>\n",
       "  </thead>\n",
       "  <tbody>\n",
       "    <tr>\n",
       "      <th>society/2020/jan/18/expert-questions-effectiveness-airport-screening-new-coronavirus</th>\n",
       "      <td>article</td>\n",
       "      <td>society</td>\n",
       "      <td>Society</td>\n",
       "      <td>2020-01-18T19:20:36Z</td>\n",
       "      <td>Expert questions effectiveness of coronavirus ...</td>\n",
       "      <td>https://www.theguardian.com/society/2020/jan/1...</td>\n",
       "      <td>https://content.guardianapis.com/society/2020/...</td>\n",
       "      <td>{'headline': 'Expert questions effectiveness o...</td>\n",
       "      <td>False</td>\n",
       "      <td>pillar/news</td>\n",
       "      <td>News</td>\n",
       "      <td>We don’t know enough yet to be sure of catchin...</td>\n",
       "      <td>Medical staff at airports trying to screen for...</td>\n",
       "      <td>Expert questions effectiveness of coronavirus ...</td>\n",
       "    </tr>\n",
       "    <tr>\n",
       "      <th>world/2020/jan/18/no-airport-screening-for-new-sars-like-virus-yet-china</th>\n",
       "      <td>article</td>\n",
       "      <td>world</td>\n",
       "      <td>World news</td>\n",
       "      <td>2020-01-18T19:20:36Z</td>\n",
       "      <td>No screening for new Sars-like virus at UK air...</td>\n",
       "      <td>https://www.theguardian.com/world/2020/jan/18/...</td>\n",
       "      <td>https://content.guardianapis.com/world/2020/ja...</td>\n",
       "      <td>{'headline': 'No screening for new Sars-like v...</td>\n",
       "      <td>False</td>\n",
       "      <td>pillar/news</td>\n",
       "      <td>News</td>\n",
       "      <td>Experts decide no need for checks as member of...</td>\n",
       "      <td>Health officials have ruled out introducing sc...</td>\n",
       "      <td>No screening for new Sars-like virus at UK air...</td>\n",
       "    </tr>\n",
       "    <tr>\n",
       "      <th>world/2020/jan/18/coronavirus-what-airport-measures-are-in-place-to-detect-for-sick-passengers</th>\n",
       "      <td>article</td>\n",
       "      <td>world</td>\n",
       "      <td>World news</td>\n",
       "      <td>2020-01-18T09:21:23Z</td>\n",
       "      <td>Coronavirus: what airport measures are in plac...</td>\n",
       "      <td>https://www.theguardian.com/world/2020/jan/18/...</td>\n",
       "      <td>https://content.guardianapis.com/world/2020/ja...</td>\n",
       "      <td>{'headline': 'Coronavirus: what airport measur...</td>\n",
       "      <td>False</td>\n",
       "      <td>pillar/news</td>\n",
       "      <td>News</td>\n",
       "      <td>Three US airports introduce screening, followi...</td>\n",
       "      <td>International airports are stepping up screeni...</td>\n",
       "      <td>Coronavirus: what airport measures are in plac...</td>\n",
       "    </tr>\n",
       "  </tbody>\n",
       "</table>\n",
       "</div>"
      ],
      "text/plain": [
       "                                                       type sectionId  \\\n",
       "id                                                                      \n",
       "society/2020/jan/18/expert-questions-effectiven...  article   society   \n",
       "world/2020/jan/18/no-airport-screening-for-new-...  article     world   \n",
       "world/2020/jan/18/coronavirus-what-airport-meas...  article     world   \n",
       "\n",
       "                                                   sectionName  \\\n",
       "id                                                               \n",
       "society/2020/jan/18/expert-questions-effectiven...     Society   \n",
       "world/2020/jan/18/no-airport-screening-for-new-...  World news   \n",
       "world/2020/jan/18/coronavirus-what-airport-meas...  World news   \n",
       "\n",
       "                                                      webPublicationDate  \\\n",
       "id                                                                         \n",
       "society/2020/jan/18/expert-questions-effectiven...  2020-01-18T19:20:36Z   \n",
       "world/2020/jan/18/no-airport-screening-for-new-...  2020-01-18T19:20:36Z   \n",
       "world/2020/jan/18/coronavirus-what-airport-meas...  2020-01-18T09:21:23Z   \n",
       "\n",
       "                                                                                             webTitle  \\\n",
       "id                                                                                                      \n",
       "society/2020/jan/18/expert-questions-effectiven...  Expert questions effectiveness of coronavirus ...   \n",
       "world/2020/jan/18/no-airport-screening-for-new-...  No screening for new Sars-like virus at UK air...   \n",
       "world/2020/jan/18/coronavirus-what-airport-meas...  Coronavirus: what airport measures are in plac...   \n",
       "\n",
       "                                                                                               webUrl  \\\n",
       "id                                                                                                      \n",
       "society/2020/jan/18/expert-questions-effectiven...  https://www.theguardian.com/society/2020/jan/1...   \n",
       "world/2020/jan/18/no-airport-screening-for-new-...  https://www.theguardian.com/world/2020/jan/18/...   \n",
       "world/2020/jan/18/coronavirus-what-airport-meas...  https://www.theguardian.com/world/2020/jan/18/...   \n",
       "\n",
       "                                                                                               apiUrl  \\\n",
       "id                                                                                                      \n",
       "society/2020/jan/18/expert-questions-effectiven...  https://content.guardianapis.com/society/2020/...   \n",
       "world/2020/jan/18/no-airport-screening-for-new-...  https://content.guardianapis.com/world/2020/ja...   \n",
       "world/2020/jan/18/coronavirus-what-airport-meas...  https://content.guardianapis.com/world/2020/ja...   \n",
       "\n",
       "                                                                                               fields  \\\n",
       "id                                                                                                      \n",
       "society/2020/jan/18/expert-questions-effectiven...  {'headline': 'Expert questions effectiveness o...   \n",
       "world/2020/jan/18/no-airport-screening-for-new-...  {'headline': 'No screening for new Sars-like v...   \n",
       "world/2020/jan/18/coronavirus-what-airport-meas...  {'headline': 'Coronavirus: what airport measur...   \n",
       "\n",
       "                                                    isHosted     pillarId  \\\n",
       "id                                                                          \n",
       "society/2020/jan/18/expert-questions-effectiven...     False  pillar/news   \n",
       "world/2020/jan/18/no-airport-screening-for-new-...     False  pillar/news   \n",
       "world/2020/jan/18/coronavirus-what-airport-meas...     False  pillar/news   \n",
       "\n",
       "                                                   pillarName  \\\n",
       "id                                                              \n",
       "society/2020/jan/18/expert-questions-effectiven...       News   \n",
       "world/2020/jan/18/no-airport-screening-for-new-...       News   \n",
       "world/2020/jan/18/coronavirus-what-airport-meas...       News   \n",
       "\n",
       "                                                                                            trailText  \\\n",
       "id                                                                                                      \n",
       "society/2020/jan/18/expert-questions-effectiven...  We don’t know enough yet to be sure of catchin...   \n",
       "world/2020/jan/18/no-airport-screening-for-new-...  Experts decide no need for checks as member of...   \n",
       "world/2020/jan/18/coronavirus-what-airport-meas...  Three US airports introduce screening, followi...   \n",
       "\n",
       "                                                                                            full_text  \\\n",
       "id                                                                                                      \n",
       "society/2020/jan/18/expert-questions-effectiven...  Medical staff at airports trying to screen for...   \n",
       "world/2020/jan/18/no-airport-screening-for-new-...  Health officials have ruled out introducing sc...   \n",
       "world/2020/jan/18/coronavirus-what-airport-meas...  International airports are stepping up screeni...   \n",
       "\n",
       "                                                                                       title_subtitle  \n",
       "id                                                                                                     \n",
       "society/2020/jan/18/expert-questions-effectiven...  Expert questions effectiveness of coronavirus ...  \n",
       "world/2020/jan/18/no-airport-screening-for-new-...  No screening for new Sars-like virus at UK air...  \n",
       "world/2020/jan/18/coronavirus-what-airport-meas...  Coronavirus: what airport measures are in plac...  "
      ]
     },
     "execution_count": 5,
     "metadata": {},
     "output_type": "execute_result"
    }
   ],
   "source": [
    "df.head(3)"
   ]
  },
  {
   "cell_type": "markdown",
   "metadata": {},
   "source": [
    "## Data cleaning and pre-processing"
   ]
  },
  {
   "cell_type": "markdown",
   "metadata": {},
   "source": [
    "Bag of words"
   ]
  },
  {
   "cell_type": "code",
   "execution_count": 6,
   "metadata": {},
   "outputs": [],
   "source": [
    "def text_to_bow(text):\n",
    "    '''\n",
    "    convert text to just lowercase words\n",
    "    '''\n",
    "    # optional if dealing with strings which might contain nan \n",
    "    if text == np.nan:\n",
    "        return text \n",
    "    else: \n",
    "        text = str(text).lower()\n",
    "        text = re.sub('\\n', ' ', text) \n",
    "        text = re.sub('<br>', ' ', text) \n",
    "        # remove non alphanumeric characters\n",
    "        regex = re.compile('[^0-9a-zA-Z- ]')\n",
    "        text = regex.sub('', text)\n",
    "        text = re.sub(' +', ' ', text).strip()\n",
    "        return text"
   ]
  },
  {
   "cell_type": "code",
   "execution_count": 7,
   "metadata": {},
   "outputs": [],
   "source": [
    "df['title_subtitle_bow'] = df['title_subtitle'].apply(lambda x : text_to_bow(x))"
   ]
  },
  {
   "cell_type": "markdown",
   "metadata": {},
   "source": [
    "Lemmatized bag of words"
   ]
  },
  {
   "cell_type": "code",
   "execution_count": 8,
   "metadata": {},
   "outputs": [],
   "source": [
    "def spacy_lemmatize(text_list):\n",
    "    lemmatized_text = []\n",
    "    for text in text_list:\n",
    "        doc = nlp(text_to_bow(text))\n",
    "        doc_tokens = []\n",
    "        for token in doc:\n",
    "            if token.is_stop == False:\n",
    "                doc_tokens.append(token.lemma_)\n",
    "        lemmatized_text.append(\" \".join(doc_tokens))\n",
    "    return lemmatized_text"
   ]
  },
  {
   "cell_type": "raw",
   "metadata": {},
   "source": [
    "df['title_subtitle_lem'] = spacy_lemmatize(df['title_subtitle'])"
   ]
  },
  {
   "cell_type": "raw",
   "metadata": {},
   "source": [
    "df.to_csv(\"resources/df_guardian_lem_nov14.csv\")"
   ]
  },
  {
   "cell_type": "code",
   "execution_count": 9,
   "metadata": {},
   "outputs": [],
   "source": [
    "df = pd.read_csv(\"data/df_guardian_lem_nov14.csv\", index_col=0)"
   ]
  },
  {
   "cell_type": "code",
   "execution_count": 10,
   "metadata": {},
   "outputs": [],
   "source": [
    "df[\"date\"] = pd.to_datetime(df[\"webPublicationDate\"].apply(lambda x : x.split(\"T\")[0]))\n",
    "df['date'] = pd.to_datetime(df['date'])"
   ]
  },
  {
   "cell_type": "code",
   "execution_count": 11,
   "metadata": {},
   "outputs": [
    {
     "data": {
      "text/html": [
       "<div>\n",
       "<style scoped>\n",
       "    .dataframe tbody tr th:only-of-type {\n",
       "        vertical-align: middle;\n",
       "    }\n",
       "\n",
       "    .dataframe tbody tr th {\n",
       "        vertical-align: top;\n",
       "    }\n",
       "\n",
       "    .dataframe thead th {\n",
       "        text-align: right;\n",
       "    }\n",
       "</style>\n",
       "<table border=\"1\" class=\"dataframe\">\n",
       "  <thead>\n",
       "    <tr style=\"text-align: right;\">\n",
       "      <th></th>\n",
       "      <th>type</th>\n",
       "      <th>sectionId</th>\n",
       "      <th>sectionName</th>\n",
       "      <th>webPublicationDate</th>\n",
       "      <th>webTitle</th>\n",
       "      <th>webUrl</th>\n",
       "      <th>apiUrl</th>\n",
       "      <th>fields</th>\n",
       "      <th>isHosted</th>\n",
       "      <th>pillarId</th>\n",
       "      <th>pillarName</th>\n",
       "      <th>trailText</th>\n",
       "      <th>full_text</th>\n",
       "      <th>title_subtitle</th>\n",
       "      <th>title_subtitle_bow</th>\n",
       "      <th>title_subtitle_lem</th>\n",
       "      <th>date</th>\n",
       "    </tr>\n",
       "    <tr>\n",
       "      <th>id</th>\n",
       "      <th></th>\n",
       "      <th></th>\n",
       "      <th></th>\n",
       "      <th></th>\n",
       "      <th></th>\n",
       "      <th></th>\n",
       "      <th></th>\n",
       "      <th></th>\n",
       "      <th></th>\n",
       "      <th></th>\n",
       "      <th></th>\n",
       "      <th></th>\n",
       "      <th></th>\n",
       "      <th></th>\n",
       "      <th></th>\n",
       "      <th></th>\n",
       "      <th></th>\n",
       "    </tr>\n",
       "  </thead>\n",
       "  <tbody>\n",
       "    <tr>\n",
       "      <th>society/2020/jan/18/expert-questions-effectiveness-airport-screening-new-coronavirus</th>\n",
       "      <td>article</td>\n",
       "      <td>society</td>\n",
       "      <td>Society</td>\n",
       "      <td>2020-01-18T19:20:36Z</td>\n",
       "      <td>Expert questions effectiveness of coronavirus ...</td>\n",
       "      <td>https://www.theguardian.com/society/2020/jan/1...</td>\n",
       "      <td>https://content.guardianapis.com/society/2020/...</td>\n",
       "      <td>{'headline': 'Expert questions effectiveness o...</td>\n",
       "      <td>False</td>\n",
       "      <td>pillar/news</td>\n",
       "      <td>News</td>\n",
       "      <td>We don’t know enough yet to be sure of catchin...</td>\n",
       "      <td>Medical staff at airports trying to screen for...</td>\n",
       "      <td>Expert questions effectiveness of coronavirus ...</td>\n",
       "      <td>expert questions effectiveness of coronavirus ...</td>\n",
       "      <td>expert question effectiveness coronavirus airp...</td>\n",
       "      <td>2020-01-18</td>\n",
       "    </tr>\n",
       "    <tr>\n",
       "      <th>world/2020/jan/18/no-airport-screening-for-new-sars-like-virus-yet-china</th>\n",
       "      <td>article</td>\n",
       "      <td>world</td>\n",
       "      <td>World news</td>\n",
       "      <td>2020-01-18T19:20:36Z</td>\n",
       "      <td>No screening for new Sars-like virus at UK air...</td>\n",
       "      <td>https://www.theguardian.com/world/2020/jan/18/...</td>\n",
       "      <td>https://content.guardianapis.com/world/2020/ja...</td>\n",
       "      <td>{'headline': 'No screening for new Sars-like v...</td>\n",
       "      <td>False</td>\n",
       "      <td>pillar/news</td>\n",
       "      <td>News</td>\n",
       "      <td>Experts decide no need for checks as member of...</td>\n",
       "      <td>Health officials have ruled out introducing sc...</td>\n",
       "      <td>No screening for new Sars-like virus at UK air...</td>\n",
       "      <td>no screening for new sars-like virus at uk air...</td>\n",
       "      <td>screening new sars - like virus uk airport exp...</td>\n",
       "      <td>2020-01-18</td>\n",
       "    </tr>\n",
       "    <tr>\n",
       "      <th>world/2020/jan/18/coronavirus-what-airport-measures-are-in-place-to-detect-for-sick-passengers</th>\n",
       "      <td>article</td>\n",
       "      <td>world</td>\n",
       "      <td>World news</td>\n",
       "      <td>2020-01-18T09:21:23Z</td>\n",
       "      <td>Coronavirus: what airport measures are in plac...</td>\n",
       "      <td>https://www.theguardian.com/world/2020/jan/18/...</td>\n",
       "      <td>https://content.guardianapis.com/world/2020/ja...</td>\n",
       "      <td>{'headline': 'Coronavirus: what airport measur...</td>\n",
       "      <td>False</td>\n",
       "      <td>pillar/news</td>\n",
       "      <td>News</td>\n",
       "      <td>Three US airports introduce screening, followi...</td>\n",
       "      <td>International airports are stepping up screeni...</td>\n",
       "      <td>Coronavirus: what airport measures are in plac...</td>\n",
       "      <td>coronavirus what airport measures are in place...</td>\n",
       "      <td>coronavirus airport measure place detect sick ...</td>\n",
       "      <td>2020-01-18</td>\n",
       "    </tr>\n",
       "  </tbody>\n",
       "</table>\n",
       "</div>"
      ],
      "text/plain": [
       "                                                       type sectionId  \\\n",
       "id                                                                      \n",
       "society/2020/jan/18/expert-questions-effectiven...  article   society   \n",
       "world/2020/jan/18/no-airport-screening-for-new-...  article     world   \n",
       "world/2020/jan/18/coronavirus-what-airport-meas...  article     world   \n",
       "\n",
       "                                                   sectionName  \\\n",
       "id                                                               \n",
       "society/2020/jan/18/expert-questions-effectiven...     Society   \n",
       "world/2020/jan/18/no-airport-screening-for-new-...  World news   \n",
       "world/2020/jan/18/coronavirus-what-airport-meas...  World news   \n",
       "\n",
       "                                                      webPublicationDate  \\\n",
       "id                                                                         \n",
       "society/2020/jan/18/expert-questions-effectiven...  2020-01-18T19:20:36Z   \n",
       "world/2020/jan/18/no-airport-screening-for-new-...  2020-01-18T19:20:36Z   \n",
       "world/2020/jan/18/coronavirus-what-airport-meas...  2020-01-18T09:21:23Z   \n",
       "\n",
       "                                                                                             webTitle  \\\n",
       "id                                                                                                      \n",
       "society/2020/jan/18/expert-questions-effectiven...  Expert questions effectiveness of coronavirus ...   \n",
       "world/2020/jan/18/no-airport-screening-for-new-...  No screening for new Sars-like virus at UK air...   \n",
       "world/2020/jan/18/coronavirus-what-airport-meas...  Coronavirus: what airport measures are in plac...   \n",
       "\n",
       "                                                                                               webUrl  \\\n",
       "id                                                                                                      \n",
       "society/2020/jan/18/expert-questions-effectiven...  https://www.theguardian.com/society/2020/jan/1...   \n",
       "world/2020/jan/18/no-airport-screening-for-new-...  https://www.theguardian.com/world/2020/jan/18/...   \n",
       "world/2020/jan/18/coronavirus-what-airport-meas...  https://www.theguardian.com/world/2020/jan/18/...   \n",
       "\n",
       "                                                                                               apiUrl  \\\n",
       "id                                                                                                      \n",
       "society/2020/jan/18/expert-questions-effectiven...  https://content.guardianapis.com/society/2020/...   \n",
       "world/2020/jan/18/no-airport-screening-for-new-...  https://content.guardianapis.com/world/2020/ja...   \n",
       "world/2020/jan/18/coronavirus-what-airport-meas...  https://content.guardianapis.com/world/2020/ja...   \n",
       "\n",
       "                                                                                               fields  \\\n",
       "id                                                                                                      \n",
       "society/2020/jan/18/expert-questions-effectiven...  {'headline': 'Expert questions effectiveness o...   \n",
       "world/2020/jan/18/no-airport-screening-for-new-...  {'headline': 'No screening for new Sars-like v...   \n",
       "world/2020/jan/18/coronavirus-what-airport-meas...  {'headline': 'Coronavirus: what airport measur...   \n",
       "\n",
       "                                                    isHosted     pillarId  \\\n",
       "id                                                                          \n",
       "society/2020/jan/18/expert-questions-effectiven...     False  pillar/news   \n",
       "world/2020/jan/18/no-airport-screening-for-new-...     False  pillar/news   \n",
       "world/2020/jan/18/coronavirus-what-airport-meas...     False  pillar/news   \n",
       "\n",
       "                                                   pillarName  \\\n",
       "id                                                              \n",
       "society/2020/jan/18/expert-questions-effectiven...       News   \n",
       "world/2020/jan/18/no-airport-screening-for-new-...       News   \n",
       "world/2020/jan/18/coronavirus-what-airport-meas...       News   \n",
       "\n",
       "                                                                                            trailText  \\\n",
       "id                                                                                                      \n",
       "society/2020/jan/18/expert-questions-effectiven...  We don’t know enough yet to be sure of catchin...   \n",
       "world/2020/jan/18/no-airport-screening-for-new-...  Experts decide no need for checks as member of...   \n",
       "world/2020/jan/18/coronavirus-what-airport-meas...  Three US airports introduce screening, followi...   \n",
       "\n",
       "                                                                                            full_text  \\\n",
       "id                                                                                                      \n",
       "society/2020/jan/18/expert-questions-effectiven...  Medical staff at airports trying to screen for...   \n",
       "world/2020/jan/18/no-airport-screening-for-new-...  Health officials have ruled out introducing sc...   \n",
       "world/2020/jan/18/coronavirus-what-airport-meas...  International airports are stepping up screeni...   \n",
       "\n",
       "                                                                                       title_subtitle  \\\n",
       "id                                                                                                      \n",
       "society/2020/jan/18/expert-questions-effectiven...  Expert questions effectiveness of coronavirus ...   \n",
       "world/2020/jan/18/no-airport-screening-for-new-...  No screening for new Sars-like virus at UK air...   \n",
       "world/2020/jan/18/coronavirus-what-airport-meas...  Coronavirus: what airport measures are in plac...   \n",
       "\n",
       "                                                                                   title_subtitle_bow  \\\n",
       "id                                                                                                      \n",
       "society/2020/jan/18/expert-questions-effectiven...  expert questions effectiveness of coronavirus ...   \n",
       "world/2020/jan/18/no-airport-screening-for-new-...  no screening for new sars-like virus at uk air...   \n",
       "world/2020/jan/18/coronavirus-what-airport-meas...  coronavirus what airport measures are in place...   \n",
       "\n",
       "                                                                                   title_subtitle_lem  \\\n",
       "id                                                                                                      \n",
       "society/2020/jan/18/expert-questions-effectiven...  expert question effectiveness coronavirus airp...   \n",
       "world/2020/jan/18/no-airport-screening-for-new-...  screening new sars - like virus uk airport exp...   \n",
       "world/2020/jan/18/coronavirus-what-airport-meas...  coronavirus airport measure place detect sick ...   \n",
       "\n",
       "                                                         date  \n",
       "id                                                             \n",
       "society/2020/jan/18/expert-questions-effectiven... 2020-01-18  \n",
       "world/2020/jan/18/no-airport-screening-for-new-... 2020-01-18  \n",
       "world/2020/jan/18/coronavirus-what-airport-meas... 2020-01-18  "
      ]
     },
     "execution_count": 11,
     "metadata": {},
     "output_type": "execute_result"
    }
   ],
   "source": [
    "df.head(3)"
   ]
  },
  {
   "cell_type": "markdown",
   "metadata": {},
   "source": [
    "# Bag of Words\n",
    "Note: To get the equivalent for Tfidf, just replace the CountVectorizer with TfidfVectorizer from sklearn"
   ]
  },
  {
   "cell_type": "code",
   "execution_count": 12,
   "metadata": {},
   "outputs": [],
   "source": [
    "class BagOfWords:\n",
    "    def __init__(self, data, max_df, min_df, stop_words, ngram_range):\n",
    "        self.data = data\n",
    "        self.max_df = max_df \n",
    "        self.min_df = min_df \n",
    "        self.stop_words = stop_words \n",
    "        self.ngram_range = ngram_range \n",
    "        self.MyCountVectorizer = CountVectorizer(\n",
    "            max_df=self.max_df, \n",
    "            min_df=self.min_df, \n",
    "            stop_words=self.stop_words, \n",
    "            ngram_range=self.ngram_range)\n",
    "        # init the empty vars \n",
    "        self.X = \"\"\n",
    "        self.feature_names = \"\"\n",
    "        self.counts = \"\"\n",
    "        self.df_counts = \"\"\n",
    "        self.dict_counts = \"\"\n",
    "        self.wordcloud = \"\"\n",
    "        self.p = \"\"\n",
    "        \n",
    "        \n",
    "    #fit the count vectorizer \n",
    "    def fit_transform(self):\n",
    "        self.X = self.MyCountVectorizer.fit_transform(self.data)\n",
    "        \n",
    "    def get_feature_names(self):\n",
    "        self.feature_names = self.MyCountVectorizer.get_feature_names()\n",
    "        \n",
    "    def get_bow_feature_counts(self): \n",
    "        self.counts = self.X.toarray().sum(axis=0)\n",
    "        # create a df with feature names and counts \n",
    "        self.df_counts = pd.DataFrame({\"feature_names\": self.feature_names, \"counts\": self.counts}).sort_values(by=\"counts\", ascending=False)\n",
    "    \n",
    "    # get the data into a dict format of {word: freq} type to feed into the wordcloud \n",
    "    def prep_for_wordcloud(self):\n",
    "        _dict_counts = self.df_counts.set_index(\"feature_names\").to_dict(orient=\"index\")\n",
    "        self.dict_counts = {}\n",
    "        for keyword, count in _dict_counts.items():\n",
    "            self.dict_counts[keyword] = count['counts']\n",
    "    \n",
    "    # visualise the word cloud\n",
    "    def viz_wordcloud(self, background_color=\"black\", max_words=200, width=700, height=400):\n",
    "        self.wordcloud = WordCloud(background_color=background_color, max_words=max_words, width=width, height=height)\n",
    "        self.wordcloud.generate_from_frequencies(self.dict_counts)\n",
    "        #self.wordcloud.to_image()\n",
    "        \n",
    "    # bar chart of word frequencies \n",
    "    def barchart_wordfreq(self, \n",
    "                          num_top_features=30,\n",
    "                          output_here=True, save_filename=\"plot\", \n",
    "                          plot_height=350, plot_width=800, title=\"Title\", bgcolor = \"#2b2b2b\"):\n",
    "        \n",
    "        counted_data = self.df_counts.nlargest(num_top_features, \"counts\")[\"feature_names\"].tolist()\n",
    "        counts = self.df_counts.nlargest(num_top_features, \"counts\")[\"counts\"].tolist()\n",
    "        # either display in the notebook or save file \n",
    "        if output_here:\n",
    "            output_notebook()\n",
    "        else:\n",
    "            output_file(save_filename+\".html\")\n",
    "        \n",
    "        source = ColumnDataSource(data=dict(counted_data=counted_data, counts=counts))\n",
    "        self.p = figure(x_range=counted_data, plot_height=plot_height, plot_width=plot_width, toolbar_location=None, title=title)\n",
    "    \n",
    "        self.p.vbar(x='counted_data',\n",
    "           top='counts', \n",
    "           width=0.8, \n",
    "           source=source, \n",
    "           line_color='white', \n",
    "           fill_color=factor_cmap('counted_data', palette=cividis(len(counted_data)), factors=counted_data))\n",
    "    \n",
    "        self.p.xgrid.grid_line_color = None\n",
    "        self.p.ygrid.grid_line_color = None\n",
    "        self.p.y_range.start = 0\n",
    "        self.p.xaxis.major_label_orientation = 1.2\n",
    "        #p.y_range.end = 5000\n",
    "        self.p.background_fill_color = bgcolor\n",
    "    \n",
    "        show(self.p)"
   ]
  },
  {
   "cell_type": "markdown",
   "metadata": {},
   "source": [
    "### 1-grams with the bow data "
   ]
  },
  {
   "cell_type": "code",
   "execution_count": 13,
   "metadata": {},
   "outputs": [],
   "source": [
    "# initialize the count vectorizer \n",
    "bow = BagOfWords(data=df['title_subtitle_bow'], max_df=0.99, min_df=0.005, stop_words=\"english\", ngram_range=(1, 1))\n",
    "# fit transform and get the fit-transformed matrix of word frequencies\n",
    "bow.fit_transform() #bow_bow.X\n",
    "# get the feature names \n",
    "bow.get_feature_names() #bow.feature_names\n",
    "# get the feature counts \n",
    "bow.get_bow_feature_counts() #bow.df_counts"
   ]
  },
  {
   "cell_type": "code",
   "execution_count": 14,
   "metadata": {},
   "outputs": [
    {
     "name": "stdout",
     "output_type": "stream",
     "text": [
      "Number of features: 619\n"
     ]
    }
   ],
   "source": [
    "print(\"Number of features: {}\".format(len(bow.feature_names)))"
   ]
  },
  {
   "cell_type": "code",
   "execution_count": 15,
   "metadata": {},
   "outputs": [
    {
     "data": {
      "text/html": [
       "<div>\n",
       "<style scoped>\n",
       "    .dataframe tbody tr th:only-of-type {\n",
       "        vertical-align: middle;\n",
       "    }\n",
       "\n",
       "    .dataframe tbody tr th {\n",
       "        vertical-align: top;\n",
       "    }\n",
       "\n",
       "    .dataframe thead th {\n",
       "        text-align: right;\n",
       "    }\n",
       "</style>\n",
       "<table border=\"1\" class=\"dataframe\">\n",
       "  <thead>\n",
       "    <tr style=\"text-align: right;\">\n",
       "      <th></th>\n",
       "      <th>feature_names</th>\n",
       "      <th>counts</th>\n",
       "    </tr>\n",
       "  </thead>\n",
       "  <tbody>\n",
       "    <tr>\n",
       "      <th>108</th>\n",
       "      <td>coronavirus</td>\n",
       "      <td>3455</td>\n",
       "    </tr>\n",
       "    <tr>\n",
       "      <th>566</th>\n",
       "      <td>uk</td>\n",
       "      <td>2646</td>\n",
       "    </tr>\n",
       "    <tr>\n",
       "      <th>113</th>\n",
       "      <td>covid</td>\n",
       "      <td>2370</td>\n",
       "    </tr>\n",
       "    <tr>\n",
       "      <th>469</th>\n",
       "      <td>says</td>\n",
       "      <td>1633</td>\n",
       "    </tr>\n",
       "    <tr>\n",
       "      <th>3</th>\n",
       "      <td>19</td>\n",
       "      <td>1516</td>\n",
       "    </tr>\n",
       "  </tbody>\n",
       "</table>\n",
       "</div>"
      ],
      "text/plain": [
       "    feature_names  counts\n",
       "108   coronavirus    3455\n",
       "566            uk    2646\n",
       "113         covid    2370\n",
       "469          says    1633\n",
       "3              19    1516"
      ]
     },
     "execution_count": 15,
     "metadata": {},
     "output_type": "execute_result"
    }
   ],
   "source": [
    "bow.df_counts.head(5)"
   ]
  },
  {
   "cell_type": "code",
   "execution_count": 16,
   "metadata": {},
   "outputs": [
    {
     "data": {
      "image/png": "[encoded data removed]",
      "text/plain": [
       "<PIL.Image.Image image mode=RGB size=700x400 at 0x126A340D0>"
      ]
     },
     "execution_count": 16,
     "metadata": {},
     "output_type": "execute_result"
    }
   ],
   "source": [
    "# wordcloud \n",
    "bow.prep_for_wordcloud()\n",
    "bow.viz_wordcloud()\n",
    "bow.wordcloud.to_image()"
   ]
  },
  {
   "cell_type": "code",
   "execution_count": 17,
   "metadata": {},
   "outputs": [
    {
     "data": {
      "text/html": [
       "\n",
       "    <div class=\"bk-root\">\n",
       "        <a href=\"https://bokeh.org\" target=\"_blank\" class=\"bk-logo bk-logo-small bk-logo-notebook\"></a>\n",
       "        <span id=\"1001\">Loading BokehJS ...</span>\n",
       "    </div>"
      ]
     },
     "metadata": {},
     "output_type": "display_data"
    },
    {
     "data": {
      "application/javascript": [
       "\n",
       "(function(root) {\n",
       "  function now() {\n",
       "    return new Date();\n",
       "  }\n",
       "\n",
       "  var force = true;\n",
       "\n",
       "  if (typeof root._bokeh_onload_callbacks === \"undefined\" || force === true) {\n",
       "    root._bokeh_onload_callbacks = [];\n",
       "    root._bokeh_is_loading = undefined;\n",
       "  }\n",
       "\n",
       "  var JS_MIME_TYPE = 'application/javascript';\n",
       "  var HTML_MIME_TYPE = 'text/html';\n",
       "  var EXEC_MIME_TYPE = 'application/vnd.bokehjs_exec.v0+json';\n",
       "  var CLASS_NAME = 'output_bokeh rendered_html';\n",
       "\n",
       "  /**\n",
       "   * Render data to the DOM node\n",
       "   */\n",
       "  function render(props, node) {\n",
       "    var script = document.createElement(\"script\");\n",
       "    node.appendChild(script);\n",
       "  }\n",
       "\n",
       "  /**\n",
       "   * Handle when an output is cleared or removed\n",
       "   */\n",
       "  function handleClearOutput(event, handle) {\n",
       "    var cell = handle.cell;\n",
       "\n",
       "    var id = cell.output_area._bokeh_element_id;\n",
       "    var server_id = cell.output_area._bokeh_server_id;\n",
       "    // Clean up Bokeh references\n",
       "    if (id != null && id in Bokeh.index) {\n",
       "      Bokeh.index[id].model.document.clear();\n",
       "      delete Bokeh.index[id];\n",
       "    }\n",
       "\n",
       "    if (server_id !== undefined) {\n",
       "      // Clean up Bokeh references\n",
       "      var cmd = \"from bokeh.io.state import curstate; print(curstate().uuid_to_server['\" + server_id + \"'].get_sessions()[0].document.roots[0]._id)\";\n",
       "      cell.notebook.kernel.execute(cmd, {\n",
       "        iopub: {\n",
       "          output: function(msg) {\n",
       "            var id = msg.content.text.trim();\n",
       "            if (id in Bokeh.index) {\n",
       "              Bokeh.index[id].model.document.clear();\n",
       "              delete Bokeh.index[id];\n",
       "            }\n",
       "          }\n",
       "        }\n",
       "      });\n",
       "      // Destroy server and session\n",
       "      var cmd = \"import bokeh.io.notebook as ion; ion.destroy_server('\" + server_id + \"')\";\n",
       "      cell.notebook.kernel.execute(cmd);\n",
       "    }\n",
       "  }\n",
       "\n",
       "  /**\n",
       "   * Handle when a new output is added\n",
       "   */\n",
       "  function handleAddOutput(event, handle) {\n",
       "    var output_area = handle.output_area;\n",
       "    var output = handle.output;\n",
       "\n",
       "    // limit handleAddOutput to display_data with EXEC_MIME_TYPE content only\n",
       "    if ((output.output_type != \"display_data\") || (!output.data.hasOwnProperty(EXEC_MIME_TYPE))) {\n",
       "      return\n",
       "    }\n",
       "\n",
       "    var toinsert = output_area.element.find(\".\" + CLASS_NAME.split(' ')[0]);\n",
       "\n",
       "    if (output.metadata[EXEC_MIME_TYPE][\"id\"] !== undefined) {\n",
       "      toinsert[toinsert.length - 1].firstChild.textContent = output.data[JS_MIME_TYPE];\n",
       "      // store reference to embed id on output_area\n",
       "      output_area._bokeh_element_id = output.metadata[EXEC_MIME_TYPE][\"id\"];\n",
       "    }\n",
       "    if (output.metadata[EXEC_MIME_TYPE][\"server_id\"] !== undefined) {\n",
       "      var bk_div = document.createElement(\"div\");\n",
       "      bk_div.innerHTML = output.data[HTML_MIME_TYPE];\n",
       "      var script_attrs = bk_div.children[0].attributes;\n",
       "      for (var i = 0; i < script_attrs.length; i++) {\n",
       "        toinsert[toinsert.length - 1].firstChild.setAttribute(script_attrs[i].name, script_attrs[i].value);\n",
       "        toinsert[toinsert.length - 1].firstChild.textContent = bk_div.children[0].textContent\n",
       "      }\n",
       "      // store reference to server id on output_area\n",
       "      output_area._bokeh_server_id = output.metadata[EXEC_MIME_TYPE][\"server_id\"];\n",
       "    }\n",
       "  }\n",
       "\n",
       "  function register_renderer(events, OutputArea) {\n",
       "\n",
       "    function append_mime(data, metadata, element) {\n",
       "      // create a DOM node to render to\n",
       "      var toinsert = this.create_output_subarea(\n",
       "        metadata,\n",
       "        CLASS_NAME,\n",
       "        EXEC_MIME_TYPE\n",
       "      );\n",
       "      this.keyboard_manager.register_events(toinsert);\n",
       "      // Render to node\n",
       "      var props = {data: data, metadata: metadata[EXEC_MIME_TYPE]};\n",
       "      render(props, toinsert[toinsert.length - 1]);\n",
       "      element.append(toinsert);\n",
       "      return toinsert\n",
       "    }\n",
       "\n",
       "    /* Handle when an output is cleared or removed */\n",
       "    events.on('clear_output.CodeCell', handleClearOutput);\n",
       "    events.on('delete.Cell', handleClearOutput);\n",
       "\n",
       "    /* Handle when a new output is added */\n",
       "    events.on('output_added.OutputArea', handleAddOutput);\n",
       "\n",
       "    /**\n",
       "     * Register the mime type and append_mime function with output_area\n",
       "     */\n",
       "    OutputArea.prototype.register_mime_type(EXEC_MIME_TYPE, append_mime, {\n",
       "      /* Is output safe? */\n",
       "      safe: true,\n",
       "      /* Index of renderer in `output_area.display_order` */\n",
       "      index: 0\n",
       "    });\n",
       "  }\n",
       "\n",
       "  // register the mime type if in Jupyter Notebook environment and previously unregistered\n",
       "  if (root.Jupyter !== undefined) {\n",
       "    var events = require('base/js/events');\n",
       "    var OutputArea = require('notebook/js/outputarea').OutputArea;\n",
       "\n",
       "    if (OutputArea.prototype.mime_types().indexOf(EXEC_MIME_TYPE) == -1) {\n",
       "      register_renderer(events, OutputArea);\n",
       "    }\n",
       "  }\n",
       "\n",
       "  \n",
       "  if (typeof (root._bokeh_timeout) === \"undefined\" || force === true) {\n",
       "    root._bokeh_timeout = Date.now() + 5000;\n",
       "    root._bokeh_failed_load = false;\n",
       "  }\n",
       "\n",
       "  var NB_LOAD_WARNING = {'data': {'text/html':\n",
       "     \"<div style='background-color: #fdd'>\\n\"+\n",
       "     \"<p>\\n\"+\n",
       "     \"BokehJS does not appear to have successfully loaded. If loading BokehJS from CDN, this \\n\"+\n",
       "     \"may be due to a slow or bad network connection. Possible fixes:\\n\"+\n",
       "     \"</p>\\n\"+\n",
       "     \"<ul>\\n\"+\n",
       "     \"<li>re-rerun `output_notebook()` to attempt to load from CDN again, or</li>\\n\"+\n",
       "     \"<li>use INLINE resources instead, as so:</li>\\n\"+\n",
       "     \"</ul>\\n\"+\n",
       "     \"<code>\\n\"+\n",
       "     \"from bokeh.resources import INLINE\\n\"+\n",
       "     \"output_notebook(resources=INLINE)\\n\"+\n",
       "     \"</code>\\n\"+\n",
       "     \"</div>\"}};\n",
       "\n",
       "  function display_loaded() {\n",
       "    var el = document.getElementById(\"1001\");\n",
       "    if (el != null) {\n",
       "      el.textContent = \"BokehJS is loading...\";\n",
       "    }\n",
       "    if (root.Bokeh !== undefined) {\n",
       "      if (el != null) {\n",
       "        el.textContent = \"BokehJS \" + root.Bokeh.version + \" successfully loaded.\";\n",
       "      }\n",
       "    } else if (Date.now() < root._bokeh_timeout) {\n",
       "      setTimeout(display_loaded, 100)\n",
       "    }\n",
       "  }\n",
       "\n",
       "\n",
       "  function run_callbacks() {\n",
       "    try {\n",
       "      root._bokeh_onload_callbacks.forEach(function(callback) {\n",
       "        if (callback != null)\n",
       "          callback();\n",
       "      });\n",
       "    } finally {\n",
       "      delete root._bokeh_onload_callbacks\n",
       "    }\n",
       "    console.debug(\"Bokeh: all callbacks have finished\");\n",
       "  }\n",
       "\n",
       "  function load_libs(css_urls, js_urls, callback) {\n",
       "    if (css_urls == null) css_urls = [];\n",
       "    if (js_urls == null) js_urls = [];\n",
       "\n",
       "    root._bokeh_onload_callbacks.push(callback);\n",
       "    if (root._bokeh_is_loading > 0) {\n",
       "      console.debug(\"Bokeh: BokehJS is being loaded, scheduling callback at\", now());\n",
       "      return null;\n",
       "    }\n",
       "    if (js_urls == null || js_urls.length === 0) {\n",
       "      run_callbacks();\n",
       "      return null;\n",
       "    }\n",
       "    console.debug(\"Bokeh: BokehJS not loaded, scheduling load and callback at\", now());\n",
       "    root._bokeh_is_loading = css_urls.length + js_urls.length;\n",
       "\n",
       "    function on_load() {\n",
       "      root._bokeh_is_loading--;\n",
       "      if (root._bokeh_is_loading === 0) {\n",
       "        console.debug(\"Bokeh: all BokehJS libraries/stylesheets loaded\");\n",
       "        run_callbacks()\n",
       "      }\n",
       "    }\n",
       "\n",
       "    function on_error() {\n",
       "      console.error(\"failed to load \" + url);\n",
       "    }\n",
       "\n",
       "    for (var i = 0; i < css_urls.length; i++) {\n",
       "      var url = css_urls[i];\n",
       "      const element = document.createElement(\"link\");\n",
       "      element.onload = on_load;\n",
       "      element.onerror = on_error;\n",
       "      element.rel = \"stylesheet\";\n",
       "      element.type = \"text/css\";\n",
       "      element.href = url;\n",
       "      console.debug(\"Bokeh: injecting link tag for BokehJS stylesheet: \", url);\n",
       "      document.body.appendChild(element);\n",
       "    }\n",
       "\n",
       "    const hashes = {\"https://cdn.bokeh.org/bokeh/release/bokeh-2.2.3.min.js\": \"T2yuo9Oe71Cz/I4X9Ac5+gpEa5a8PpJCDlqKYO0CfAuEszu1JrXLl8YugMqYe3sM\", \"https://cdn.bokeh.org/bokeh/release/bokeh-widgets-2.2.3.min.js\": \"98GDGJ0kOMCUMUePhksaQ/GYgB3+NH9h996V88sh3aOiUNX3N+fLXAtry6xctSZ6\", \"https://cdn.bokeh.org/bokeh/release/bokeh-tables-2.2.3.min.js\": \"89bArO+nlbP3sgakeHjCo1JYxYR5wufVgA3IbUvDY+K7w4zyxJqssu7wVnfeKCq8\"};\n",
       "\n",
       "    for (var i = 0; i < js_urls.length; i++) {\n",
       "      var url = js_urls[i];\n",
       "      var element = document.createElement('script');\n",
       "      element.onload = on_load;\n",
       "      element.onerror = on_error;\n",
       "      element.async = false;\n",
       "      element.src = url;\n",
       "      if (url in hashes) {\n",
       "        element.crossOrigin = \"anonymous\";\n",
       "        element.integrity = \"sha384-\" + hashes[url];\n",
       "      }\n",
       "      console.debug(\"Bokeh: injecting script tag for BokehJS library: \", url);\n",
       "      document.head.appendChild(element);\n",
       "    }\n",
       "  };\n",
       "\n",
       "  function inject_raw_css(css) {\n",
       "    const element = document.createElement(\"style\");\n",
       "    element.appendChild(document.createTextNode(css));\n",
       "    document.body.appendChild(element);\n",
       "  }\n",
       "\n",
       "  \n",
       "  var js_urls = [\"https://cdn.bokeh.org/bokeh/release/bokeh-2.2.3.min.js\", \"https://cdn.bokeh.org/bokeh/release/bokeh-widgets-2.2.3.min.js\", \"https://cdn.bokeh.org/bokeh/release/bokeh-tables-2.2.3.min.js\"];\n",
       "  var css_urls = [];\n",
       "  \n",
       "\n",
       "  var inline_js = [\n",
       "    function(Bokeh) {\n",
       "      Bokeh.set_log_level(\"info\");\n",
       "    },\n",
       "    function(Bokeh) {\n",
       "    \n",
       "    \n",
       "    }\n",
       "  ];\n",
       "\n",
       "  function run_inline_js() {\n",
       "    \n",
       "    if (root.Bokeh !== undefined || force === true) {\n",
       "      \n",
       "    for (var i = 0; i < inline_js.length; i++) {\n",
       "      inline_js[i].call(root, root.Bokeh);\n",
       "    }\n",
       "    if (force === true) {\n",
       "        display_loaded();\n",
       "      }} else if (Date.now() < root._bokeh_timeout) {\n",
       "      setTimeout(run_inline_js, 100);\n",
       "    } else if (!root._bokeh_failed_load) {\n",
       "      console.log(\"Bokeh: BokehJS failed to load within specified timeout.\");\n",
       "      root._bokeh_failed_load = true;\n",
       "    } else if (force !== true) {\n",
       "      var cell = $(document.getElementById(\"1001\")).parents('.cell').data().cell;\n",
       "      cell.output_area.append_execute_result(NB_LOAD_WARNING)\n",
       "    }\n",
       "\n",
       "  }\n",
       "\n",
       "  if (root._bokeh_is_loading === 0) {\n",
       "    console.debug(\"Bokeh: BokehJS loaded, going straight to plotting\");\n",
       "    run_inline_js();\n",
       "  } else {\n",
       "    load_libs(css_urls, js_urls, function() {\n",
       "      console.debug(\"Bokeh: BokehJS plotting callback run at\", now());\n",
       "      run_inline_js();\n",
       "    });\n",
       "  }\n",
       "}(window));"
      ],
      "application/vnd.bokehjs_load.v0+json": "\n(function(root) {\n  function now() {\n    return new Date();\n  }\n\n  var force = true;\n\n  if (typeof root._bokeh_onload_callbacks === \"undefined\" || force === true) {\n    root._bokeh_onload_callbacks = [];\n    root._bokeh_is_loading = undefined;\n  }\n\n  \n\n  \n  if (typeof (root._bokeh_timeout) === \"undefined\" || force === true) {\n    root._bokeh_timeout = Date.now() + 5000;\n    root._bokeh_failed_load = false;\n  }\n\n  var NB_LOAD_WARNING = {'data': {'text/html':\n     \"<div style='background-color: #fdd'>\\n\"+\n     \"<p>\\n\"+\n     \"BokehJS does not appear to have successfully loaded. If loading BokehJS from CDN, this \\n\"+\n     \"may be due to a slow or bad network connection. Possible fixes:\\n\"+\n     \"</p>\\n\"+\n     \"<ul>\\n\"+\n     \"<li>re-rerun `output_notebook()` to attempt to load from CDN again, or</li>\\n\"+\n     \"<li>use INLINE resources instead, as so:</li>\\n\"+\n     \"</ul>\\n\"+\n     \"<code>\\n\"+\n     \"from bokeh.resources import INLINE\\n\"+\n     \"output_notebook(resources=INLINE)\\n\"+\n     \"</code>\\n\"+\n     \"</div>\"}};\n\n  function display_loaded() {\n    var el = document.getElementById(\"1001\");\n    if (el != null) {\n      el.textContent = \"BokehJS is loading...\";\n    }\n    if (root.Bokeh !== undefined) {\n      if (el != null) {\n        el.textContent = \"BokehJS \" + root.Bokeh.version + \" successfully loaded.\";\n      }\n    } else if (Date.now() < root._bokeh_timeout) {\n      setTimeout(display_loaded, 100)\n    }\n  }\n\n\n  function run_callbacks() {\n    try {\n      root._bokeh_onload_callbacks.forEach(function(callback) {\n        if (callback != null)\n          callback();\n      });\n    } finally {\n      delete root._bokeh_onload_callbacks\n    }\n    console.debug(\"Bokeh: all callbacks have finished\");\n  }\n\n  function load_libs(css_urls, js_urls, callback) {\n    if (css_urls == null) css_urls = [];\n    if (js_urls == null) js_urls = [];\n\n    root._bokeh_onload_callbacks.push(callback);\n    if (root._bokeh_is_loading > 0) {\n      console.debug(\"Bokeh: BokehJS is being loaded, scheduling callback at\", now());\n      return null;\n    }\n    if (js_urls == null || js_urls.length === 0) {\n      run_callbacks();\n      return null;\n    }\n    console.debug(\"Bokeh: BokehJS not loaded, scheduling load and callback at\", now());\n    root._bokeh_is_loading = css_urls.length + js_urls.length;\n\n    function on_load() {\n      root._bokeh_is_loading--;\n      if (root._bokeh_is_loading === 0) {\n        console.debug(\"Bokeh: all BokehJS libraries/stylesheets loaded\");\n        run_callbacks()\n      }\n    }\n\n    function on_error() {\n      console.error(\"failed to load \" + url);\n    }\n\n    for (var i = 0; i < css_urls.length; i++) {\n      var url = css_urls[i];\n      const element = document.createElement(\"link\");\n      element.onload = on_load;\n      element.onerror = on_error;\n      element.rel = \"stylesheet\";\n      element.type = \"text/css\";\n      element.href = url;\n      console.debug(\"Bokeh: injecting link tag for BokehJS stylesheet: \", url);\n      document.body.appendChild(element);\n    }\n\n    const hashes = {\"https://cdn.bokeh.org/bokeh/release/bokeh-2.2.3.min.js\": \"T2yuo9Oe71Cz/I4X9Ac5+gpEa5a8PpJCDlqKYO0CfAuEszu1JrXLl8YugMqYe3sM\", \"https://cdn.bokeh.org/bokeh/release/bokeh-widgets-2.2.3.min.js\": \"98GDGJ0kOMCUMUePhksaQ/GYgB3+NH9h996V88sh3aOiUNX3N+fLXAtry6xctSZ6\", \"https://cdn.bokeh.org/bokeh/release/bokeh-tables-2.2.3.min.js\": \"89bArO+nlbP3sgakeHjCo1JYxYR5wufVgA3IbUvDY+K7w4zyxJqssu7wVnfeKCq8\"};\n\n    for (var i = 0; i < js_urls.length; i++) {\n      var url = js_urls[i];\n      var element = document.createElement('script');\n      element.onload = on_load;\n      element.onerror = on_error;\n      element.async = false;\n      element.src = url;\n      if (url in hashes) {\n        element.crossOrigin = \"anonymous\";\n        element.integrity = \"sha384-\" + hashes[url];\n      }\n      console.debug(\"Bokeh: injecting script tag for BokehJS library: \", url);\n      document.head.appendChild(element);\n    }\n  };\n\n  function inject_raw_css(css) {\n    const element = document.createElement(\"style\");\n    element.appendChild(document.createTextNode(css));\n    document.body.appendChild(element);\n  }\n\n  \n  var js_urls = [\"https://cdn.bokeh.org/bokeh/release/bokeh-2.2.3.min.js\", \"https://cdn.bokeh.org/bokeh/release/bokeh-widgets-2.2.3.min.js\", \"https://cdn.bokeh.org/bokeh/release/bokeh-tables-2.2.3.min.js\"];\n  var css_urls = [];\n  \n\n  var inline_js = [\n    function(Bokeh) {\n      Bokeh.set_log_level(\"info\");\n    },\n    function(Bokeh) {\n    \n    \n    }\n  ];\n\n  function run_inline_js() {\n    \n    if (root.Bokeh !== undefined || force === true) {\n      \n    for (var i = 0; i < inline_js.length; i++) {\n      inline_js[i].call(root, root.Bokeh);\n    }\n    if (force === true) {\n        display_loaded();\n      }} else if (Date.now() < root._bokeh_timeout) {\n      setTimeout(run_inline_js, 100);\n    } else if (!root._bokeh_failed_load) {\n      console.log(\"Bokeh: BokehJS failed to load within specified timeout.\");\n      root._bokeh_failed_load = true;\n    } else if (force !== true) {\n      var cell = $(document.getElementById(\"1001\")).parents('.cell').data().cell;\n      cell.output_area.append_execute_result(NB_LOAD_WARNING)\n    }\n\n  }\n\n  if (root._bokeh_is_loading === 0) {\n    console.debug(\"Bokeh: BokehJS loaded, going straight to plotting\");\n    run_inline_js();\n  } else {\n    load_libs(css_urls, js_urls, function() {\n      console.debug(\"Bokeh: BokehJS plotting callback run at\", now());\n      run_inline_js();\n    });\n  }\n}(window));"
     },
     "metadata": {},
     "output_type": "display_data"
    },
    {
     "data": {
      "text/html": [
       "\n",
       "\n",
       "\n",
       "\n",
       "\n",
       "\n",
       "  <div class=\"bk-root\" id=\"5c9d23dc-06f3-4977-afe7-751e25bcf86c\" data-root-id=\"1003\"></div>\n"
      ]
     },
     "metadata": {},
     "output_type": "display_data"
    },
    {
     "data": {
      "application/javascript": [
       "(function(root) {\n",
       "  function embed_document(root) {\n",
       "    \n",
       "  var docs_json = {\"bb68de91-8979-41dc-b492-6148824bef2d\":{\"roots\":{\"references\":[{\"attributes\":{\"background_fill_color\":\"#2b2b2b\",\"below\":[{\"id\":\"1014\"}],\"center\":[{\"id\":\"1016\"},{\"id\":\"1020\"}],\"left\":[{\"id\":\"1017\"}],\"plot_height\":350,\"plot_width\":1000,\"renderers\":[{\"id\":\"1039\"}],\"title\":{\"id\":\"1004\"},\"toolbar\":{\"id\":\"1028\"},\"toolbar_location\":null,\"x_range\":{\"id\":\"1006\"},\"x_scale\":{\"id\":\"1010\"},\"y_range\":{\"id\":\"1008\"},\"y_scale\":{\"id\":\"1012\"}},\"id\":\"1003\",\"subtype\":\"Figure\",\"type\":\"Plot\"},{\"attributes\":{\"axis\":{\"id\":\"1017\"},\"dimension\":1,\"grid_line_color\":null,\"ticker\":null},\"id\":\"1020\",\"type\":\"Grid\"},{\"attributes\":{},\"id\":\"1021\",\"type\":\"PanTool\"},{\"attributes\":{},\"id\":\"1024\",\"type\":\"SaveTool\"},{\"attributes\":{\"factors\":[\"coronavirus\",\"uk\",\"covid\",\"says\",\"19\",\"lockdown\",\"government\",\"people\",\"crisis\",\"pandemic\",\"new\",\"health\",\"say\",\"guardian\",\"england\",\"global\",\"nhs\",\"outbreak\",\"home\",\"boris\",\"workers\",\"help\",\"johnson\",\"care\",\"public\",\"staff\",\"face\",\"amid\",\"biggest\",\"time\",\"risk\",\"cases\",\"work\",\"hit\",\"virus\",\"rules\",\"need\",\"support\",\"rise\",\"letters\",\"test\",\"restrictions\",\"uks\",\"plan\",\"latest\",\"experts\",\"travel\",\"week\",\"developments\",\"testing\"],\"palette\":[\"#00204C\",\"#002355\",\"#00275D\",\"#002A66\",\"#002E6E\",\"#00316F\",\"#01356E\",\"#15396D\",\"#203C6C\",\"#29406B\",\"#32446B\",\"#38486B\",\"#3E4B6B\",\"#444F6B\",\"#49536B\",\"#4F576C\",\"#545A6C\",\"#595E6D\",\"#5E626E\",\"#62656F\",\"#686A70\",\"#6C6D72\",\"#707173\",\"#757575\",\"#797877\",\"#7E7D78\",\"#838178\",\"#888578\",\"#8D8878\",\"#928C78\",\"#989177\",\"#9D9577\",\"#A29976\",\"#A79D75\",\"#ACA173\",\"#B2A672\",\"#B8AB70\",\"#BDAF6E\",\"#C2B36C\",\"#C8B86A\",\"#CEBD67\",\"#D4C164\",\"#D9C661\",\"#DFCB5D\",\"#E5CF5A\",\"#ECD555\",\"#F1DA50\",\"#F7DF4B\",\"#FDE345\",\"#FFE945\"]},\"id\":\"1035\",\"type\":\"CategoricalColorMapper\"},{\"attributes\":{},\"id\":\"1010\",\"type\":\"CategoricalScale\"},{\"attributes\":{},\"id\":\"1042\",\"type\":\"CategoricalTickFormatter\"},{\"attributes\":{},\"id\":\"1044\",\"type\":\"BasicTickFormatter\"},{\"attributes\":{\"axis\":{\"id\":\"1014\"},\"grid_line_color\":null,\"ticker\":null},\"id\":\"1016\",\"type\":\"Grid\"},{\"attributes\":{\"bottom_units\":\"screen\",\"fill_alpha\":0.5,\"fill_color\":\"lightgrey\",\"left_units\":\"screen\",\"level\":\"overlay\",\"line_alpha\":1.0,\"line_color\":\"black\",\"line_dash\":[4,4],\"line_width\":2,\"right_units\":\"screen\",\"top_units\":\"screen\"},\"id\":\"1027\",\"type\":\"BoxAnnotation\"},{\"attributes\":{\"formatter\":{\"id\":\"1044\"},\"ticker\":{\"id\":\"1018\"}},\"id\":\"1017\",\"type\":\"LinearAxis\"},{\"attributes\":{\"text\":\"Title\"},\"id\":\"1004\",\"type\":\"Title\"},{\"attributes\":{\"overlay\":{\"id\":\"1027\"}},\"id\":\"1023\",\"type\":\"BoxZoomTool\"},{\"attributes\":{},\"id\":\"1046\",\"type\":\"UnionRenderers\"},{\"attributes\":{\"factors\":[\"coronavirus\",\"uk\",\"covid\",\"says\",\"19\",\"lockdown\",\"government\",\"people\",\"crisis\",\"pandemic\",\"new\",\"health\",\"say\",\"guardian\",\"england\",\"global\",\"nhs\",\"outbreak\",\"home\",\"boris\",\"workers\",\"help\",\"johnson\",\"care\",\"public\",\"staff\",\"face\",\"amid\",\"biggest\",\"time\",\"risk\",\"cases\",\"work\",\"hit\",\"virus\",\"rules\",\"need\",\"support\",\"rise\",\"letters\",\"test\",\"restrictions\",\"uks\",\"plan\",\"latest\",\"experts\",\"travel\",\"week\",\"developments\",\"testing\"]},\"id\":\"1006\",\"type\":\"FactorRange\"},{\"attributes\":{},\"id\":\"1047\",\"type\":\"Selection\"},{\"attributes\":{},\"id\":\"1025\",\"type\":\"ResetTool\"},{\"attributes\":{\"data\":{\"counted_data\":[\"coronavirus\",\"uk\",\"covid\",\"says\",\"19\",\"lockdown\",\"government\",\"people\",\"crisis\",\"pandemic\",\"new\",\"health\",\"say\",\"guardian\",\"england\",\"global\",\"nhs\",\"outbreak\",\"home\",\"boris\",\"workers\",\"help\",\"johnson\",\"care\",\"public\",\"staff\",\"face\",\"amid\",\"biggest\",\"time\",\"risk\",\"cases\",\"work\",\"hit\",\"virus\",\"rules\",\"need\",\"support\",\"rise\",\"letters\",\"test\",\"restrictions\",\"uks\",\"plan\",\"latest\",\"experts\",\"travel\",\"week\",\"developments\",\"testing\"],\"counts\":[3455,2646,2370,1633,1516,1206,785,760,755,620,551,513,503,459,458,443,430,426,388,377,376,361,351,338,338,334,309,287,284,275,263,262,257,252,252,249,248,241,238,238,235,235,231,230,228,225,223,223,223,222]},\"selected\":{\"id\":\"1047\"},\"selection_policy\":{\"id\":\"1046\"}},\"id\":\"1002\",\"type\":\"ColumnDataSource\"},{\"attributes\":{},\"id\":\"1026\",\"type\":\"HelpTool\"},{\"attributes\":{\"start\":0},\"id\":\"1008\",\"type\":\"DataRange1d\"},{\"attributes\":{},\"id\":\"1015\",\"type\":\"CategoricalTicker\"},{\"attributes\":{},\"id\":\"1012\",\"type\":\"LinearScale\"},{\"attributes\":{\"active_drag\":\"auto\",\"active_inspect\":\"auto\",\"active_multi\":null,\"active_scroll\":\"auto\",\"active_tap\":\"auto\",\"tools\":[{\"id\":\"1021\"},{\"id\":\"1022\"},{\"id\":\"1023\"},{\"id\":\"1024\"},{\"id\":\"1025\"},{\"id\":\"1026\"}]},\"id\":\"1028\",\"type\":\"Toolbar\"},{\"attributes\":{},\"id\":\"1022\",\"type\":\"WheelZoomTool\"},{\"attributes\":{},\"id\":\"1018\",\"type\":\"BasicTicker\"},{\"attributes\":{\"formatter\":{\"id\":\"1042\"},\"major_label_orientation\":1.2,\"ticker\":{\"id\":\"1015\"}},\"id\":\"1014\",\"type\":\"CategoricalAxis\"},{\"attributes\":{\"fill_color\":{\"field\":\"counted_data\",\"transform\":{\"id\":\"1035\"}},\"line_color\":{\"value\":\"white\"},\"top\":{\"field\":\"counts\"},\"width\":{\"value\":0.8},\"x\":{\"field\":\"counted_data\"}},\"id\":\"1037\",\"type\":\"VBar\"},{\"attributes\":{\"fill_alpha\":{\"value\":0.1},\"fill_color\":{\"field\":\"counted_data\",\"transform\":{\"id\":\"1035\"}},\"line_alpha\":{\"value\":0.1},\"line_color\":{\"value\":\"white\"},\"top\":{\"field\":\"counts\"},\"width\":{\"value\":0.8},\"x\":{\"field\":\"counted_data\"}},\"id\":\"1038\",\"type\":\"VBar\"},{\"attributes\":{\"source\":{\"id\":\"1002\"}},\"id\":\"1040\",\"type\":\"CDSView\"},{\"attributes\":{\"data_source\":{\"id\":\"1002\"},\"glyph\":{\"id\":\"1037\"},\"hover_glyph\":null,\"muted_glyph\":null,\"nonselection_glyph\":{\"id\":\"1038\"},\"selection_glyph\":null,\"view\":{\"id\":\"1040\"}},\"id\":\"1039\",\"type\":\"GlyphRenderer\"}],\"root_ids\":[\"1003\"]},\"title\":\"Bokeh Application\",\"version\":\"2.2.3\"}};\n",
       "  var render_items = [{\"docid\":\"bb68de91-8979-41dc-b492-6148824bef2d\",\"root_ids\":[\"1003\"],\"roots\":{\"1003\":\"5c9d23dc-06f3-4977-afe7-751e25bcf86c\"}}];\n",
       "  root.Bokeh.embed.embed_items_notebook(docs_json, render_items);\n",
       "\n",
       "  }\n",
       "  if (root.Bokeh !== undefined) {\n",
       "    embed_document(root);\n",
       "  } else {\n",
       "    var attempts = 0;\n",
       "    var timer = setInterval(function(root) {\n",
       "      if (root.Bokeh !== undefined) {\n",
       "        clearInterval(timer);\n",
       "        embed_document(root);\n",
       "      } else {\n",
       "        attempts++;\n",
       "        if (attempts > 100) {\n",
       "          clearInterval(timer);\n",
       "          console.log(\"Bokeh: ERROR: Unable to run BokehJS code because BokehJS library is missing\");\n",
       "        }\n",
       "      }\n",
       "    }, 10, root)\n",
       "  }\n",
       "})(window);"
      ],
      "application/vnd.bokehjs_exec.v0+json": ""
     },
     "metadata": {
      "application/vnd.bokehjs_exec.v0+json": {
       "id": "1003"
      }
     },
     "output_type": "display_data"
    }
   ],
   "source": [
    "bow.barchart_wordfreq(num_top_features=50, plot_width=1000)\n",
    "#show(bow.p)"
   ]
  },
  {
   "cell_type": "markdown",
   "metadata": {},
   "source": [
    "# Topic modelling with LDA"
   ]
  },
  {
   "cell_type": "markdown",
   "metadata": {},
   "source": [
    "# Spacy features"
   ]
  },
  {
   "cell_type": "markdown",
   "metadata": {},
   "source": [
    "## Part of speech \n",
    "- Counting the number of nouns, noun phrases, verbs, adjectives etc"
   ]
  },
  {
   "cell_type": "code",
   "execution_count": 18,
   "metadata": {},
   "outputs": [],
   "source": [
    "import spacy\n",
    "nlp = spacy.load(\"en_core_web_sm\")"
   ]
  },
  {
   "cell_type": "code",
   "execution_count": 19,
   "metadata": {},
   "outputs": [],
   "source": [
    "wanted_pos = ['PROPN', \"VERB\", \"NOUN\", \"ADV\", \"ADJ\"]"
   ]
  },
  {
   "cell_type": "markdown",
   "metadata": {},
   "source": [
    "Utility functions "
   ]
  },
  {
   "cell_type": "code",
   "execution_count": 20,
   "metadata": {},
   "outputs": [],
   "source": [
    "# for a single string of text, return a list of the words of the desired pos type\n",
    "# and a list of the corresponding lemmas \n",
    "def collect_pos(pos, text, stopword=False):\n",
    "    pos_text = []\n",
    "    pos_lemma = []\n",
    "    doc = nlp(text)\n",
    "    for token in doc:\n",
    "        if token.pos_ == pos and token.is_stop == False:\n",
    "            pos_text.append(token.text)\n",
    "            pos_lemma.append(token.lemma_)\n",
    "    return pos_text, pos_lemma"
   ]
  },
  {
   "cell_type": "code",
   "execution_count": 36,
   "metadata": {},
   "outputs": [
    {
     "name": "stderr",
     "output_type": "stream",
     "text": [
      "/Users/user/Library/Python/3.8/lib/python/site-packages/ipykernel/ipkernel.py:283: DeprecationWarning: `should_run_async` will not call `transform_cell` automatically in the future. Please pass the result to `transformed_cell` argument and any exception that happen during thetransform in `preprocessing_exc_tuple` in IPython 7.17 and above.\n",
      "  and should_run_async(code)\n"
     ]
    }
   ],
   "source": [
    "def collect_noun_chunks(text):\n",
    "    noun_chunks = []\n",
    "    doc = nlp(text)\n",
    "    for chunk in doc.noun_chunks:\n",
    "        noun_chunks.append(chunk.text)\n",
    "    return noun_chunks"
   ]
  },
  {
   "cell_type": "markdown",
   "metadata": {},
   "source": [
    "#### noun chunks"
   ]
  },
  {
   "cell_type": "code",
   "execution_count": 37,
   "metadata": {},
   "outputs": [
    {
     "name": "stderr",
     "output_type": "stream",
     "text": [
      "/Users/user/Library/Python/3.8/lib/python/site-packages/ipykernel/ipkernel.py:283: DeprecationWarning: `should_run_async` will not call `transform_cell` automatically in the future. Please pass the result to `transformed_cell` argument and any exception that happen during thetransform in `preprocessing_exc_tuple` in IPython 7.17 and above.\n",
      "  and should_run_async(code)\n"
     ]
    }
   ],
   "source": [
    "noun_chunks = []\n",
    "for text in df[\"title_subtitle_bow\"].tolist():\n",
    "    noun_chunks.extend(collect_noun_chunks(text))\n",
    "noun_chunks_counts = pd.Series(noun_chunks).value_counts()"
   ]
  },
  {
   "cell_type": "code",
   "execution_count": 38,
   "metadata": {},
   "outputs": [
    {
     "name": "stderr",
     "output_type": "stream",
     "text": [
      "/Users/user/Library/Python/3.8/lib/python/site-packages/ipykernel/ipkernel.py:283: DeprecationWarning: `should_run_async` will not call `transform_cell` automatically in the future. Please pass the result to `transformed_cell` argument and any exception that happen during thetransform in `preprocessing_exc_tuple` in IPython 7.17 and above.\n",
      "  and should_run_async(code)\n"
     ]
    },
    {
     "data": {
      "text/plain": [
       "coronavirus                        1317\n",
       "it                                  673\n",
       "uk                                  604\n",
       "we                                  603\n",
       "who                                 402\n",
       "they                                393\n",
       "covid-19                            374\n",
       "what                                328\n",
       "people                              327\n",
       "lockdown                            304\n",
       "i                                   289\n",
       "england                             281\n",
       "you                                 261\n",
       "the uk                              258\n",
       "us                                  243\n",
       "a glance                            222\n",
       "the global coronavirus outbreak     217\n",
       "the biggest developments            214\n",
       "a summary                           205\n",
       "boris johnson                       178\n",
       "dtype: int64"
      ]
     },
     "execution_count": 38,
     "metadata": {},
     "output_type": "execute_result"
    }
   ],
   "source": [
    "noun_chunks_counts.head(20)"
   ]
  },
  {
   "cell_type": "markdown",
   "metadata": {},
   "source": [
    "### visualising pos frequecies \n",
    "over the entire corpus. "
   ]
  },
  {
   "cell_type": "code",
   "execution_count": 39,
   "metadata": {},
   "outputs": [
    {
     "name": "stderr",
     "output_type": "stream",
     "text": [
      "/Users/user/Library/Python/3.8/lib/python/site-packages/ipykernel/ipkernel.py:283: DeprecationWarning: `should_run_async` will not call `transform_cell` automatically in the future. Please pass the result to `transformed_cell` argument and any exception that happen during thetransform in `preprocessing_exc_tuple` in IPython 7.17 and above.\n",
      "  and should_run_async(code)\n"
     ]
    }
   ],
   "source": [
    "def collect_pos(text):\n",
    "    doc = nlp(text)\n",
    "    nouns, verbs, adverbs, adjectives, other_pos = [], [], [], [], []\n",
    "    for token in doc: \n",
    "        if token.pos_ == \"NOUN\" or token.pos_ == \"PROPN\":\n",
    "            nouns.append(token.lemma_)\n",
    "        elif token.pos_ == \"VERB\":\n",
    "            verbs.append(token.lemma_)\n",
    "        elif token.pos_ == \"ADV\":\n",
    "            adverbs.append(token.lemma_)\n",
    "        elif token.pos_ == \"ADJ\":\n",
    "            adjectives.append(token.lemma_)\n",
    "        else:\n",
    "            other_pos.append(token.text)\n",
    "    return nouns, verbs, adverbs, adjectives, other_pos"
   ]
  },
  {
   "cell_type": "code",
   "execution_count": 40,
   "metadata": {},
   "outputs": [
    {
     "name": "stderr",
     "output_type": "stream",
     "text": [
      "/Users/user/Library/Python/3.8/lib/python/site-packages/ipykernel/ipkernel.py:283: DeprecationWarning: `should_run_async` will not call `transform_cell` automatically in the future. Please pass the result to `transformed_cell` argument and any exception that happen during thetransform in `preprocessing_exc_tuple` in IPython 7.17 and above.\n",
      "  and should_run_async(code)\n"
     ]
    }
   ],
   "source": [
    "nouns_all, verbs_all, adverbs_all, adjectives_all, other_pos_all =  [], [], [], [], []\n",
    "for text in df['title_subtitle_bow'].tolist():\n",
    "    nouns, verbs, adverbs, adjectives, other_pos = collect_pos(text)\n",
    "    nouns_all.extend(nouns)\n",
    "    verbs_all.extend(verbs)\n",
    "    adverbs_all.extend(adverbs)\n",
    "    adjectives_all.extend(adjectives)\n",
    "    other_pos_all.extend(other_pos)"
   ]
  },
  {
   "cell_type": "code",
   "execution_count": 41,
   "metadata": {},
   "outputs": [
    {
     "name": "stderr",
     "output_type": "stream",
     "text": [
      "/Users/user/Library/Python/3.8/lib/python/site-packages/ipykernel/ipkernel.py:283: DeprecationWarning: `should_run_async` will not call `transform_cell` automatically in the future. Please pass the result to `transformed_cell` argument and any exception that happen during thetransform in `preprocessing_exc_tuple` in IPython 7.17 and above.\n",
      "  and should_run_async(code)\n"
     ]
    },
    {
     "data": {
      "text/plain": [
       "87324"
      ]
     },
     "execution_count": 41,
     "metadata": {},
     "output_type": "execute_result"
    }
   ],
   "source": [
    "len(nouns_all)"
   ]
  },
  {
   "cell_type": "code",
   "execution_count": 42,
   "metadata": {},
   "outputs": [
    {
     "name": "stderr",
     "output_type": "stream",
     "text": [
      "/Users/user/Library/Python/3.8/lib/python/site-packages/ipykernel/ipkernel.py:283: DeprecationWarning: `should_run_async` will not call `transform_cell` automatically in the future. Please pass the result to `transformed_cell` argument and any exception that happen during thetransform in `preprocessing_exc_tuple` in IPython 7.17 and above.\n",
      "  and should_run_async(code)\n"
     ]
    }
   ],
   "source": [
    "all_pos = {}\n",
    "all_pos['nouns'] = len(nouns_all)\n",
    "all_pos['verbs'] = len(verbs_all)\n",
    "all_pos['adverbs'] = len(adverbs_all)\n",
    "all_pos['adjectives'] = len(adjectives_all)"
   ]
  },
  {
   "cell_type": "code",
   "execution_count": 43,
   "metadata": {},
   "outputs": [
    {
     "name": "stderr",
     "output_type": "stream",
     "text": [
      "/Users/user/Library/Python/3.8/lib/python/site-packages/ipykernel/ipkernel.py:283: DeprecationWarning: `should_run_async` will not call `transform_cell` automatically in the future. Please pass the result to `transformed_cell` argument and any exception that happen during thetransform in `preprocessing_exc_tuple` in IPython 7.17 and above.\n",
      "  and should_run_async(code)\n"
     ]
    },
    {
     "data": {
      "text/plain": [
       "{'nouns': 87324, 'verbs': 34090, 'adverbs': 6339, 'adjectives': 18165}"
      ]
     },
     "execution_count": 43,
     "metadata": {},
     "output_type": "execute_result"
    }
   ],
   "source": [
    "all_pos"
   ]
  },
  {
   "cell_type": "code",
   "execution_count": 44,
   "metadata": {},
   "outputs": [
    {
     "name": "stderr",
     "output_type": "stream",
     "text": [
      "/Users/user/Library/Python/3.8/lib/python/site-packages/ipykernel/ipkernel.py:283: DeprecationWarning: `should_run_async` will not call `transform_cell` automatically in the future. Please pass the result to `transformed_cell` argument and any exception that happen during thetransform in `preprocessing_exc_tuple` in IPython 7.17 and above.\n",
      "  and should_run_async(code)\n"
     ]
    }
   ],
   "source": [
    "from bokeh.io import output_file, show\n",
    "from bokeh.palettes import Category20c, cividis\n",
    "from bokeh.plotting import figure\n",
    "from bokeh.transform import cumsum\n",
    "from math import pi"
   ]
  },
  {
   "cell_type": "code",
   "execution_count": 45,
   "metadata": {},
   "outputs": [
    {
     "name": "stderr",
     "output_type": "stream",
     "text": [
      "/Users/user/Library/Python/3.8/lib/python/site-packages/ipykernel/ipkernel.py:283: DeprecationWarning: `should_run_async` will not call `transform_cell` automatically in the future. Please pass the result to `transformed_cell` argument and any exception that happen during thetransform in `preprocessing_exc_tuple` in IPython 7.17 and above.\n",
      "  and should_run_async(code)\n"
     ]
    }
   ],
   "source": [
    "data_viz = pd.DataFrame.from_dict(all_pos, orient=\"index\").reset_index()\n",
    "data_viz.columns = ['pos', 'value']"
   ]
  },
  {
   "cell_type": "code",
   "execution_count": 46,
   "metadata": {},
   "outputs": [
    {
     "name": "stderr",
     "output_type": "stream",
     "text": [
      "/Users/user/Library/Python/3.8/lib/python/site-packages/ipykernel/ipkernel.py:283: DeprecationWarning: `should_run_async` will not call `transform_cell` automatically in the future. Please pass the result to `transformed_cell` argument and any exception that happen during thetransform in `preprocessing_exc_tuple` in IPython 7.17 and above.\n",
      "  and should_run_async(code)\n"
     ]
    },
    {
     "data": {
      "text/html": [
       "\n",
       "\n",
       "\n",
       "\n",
       "\n",
       "\n",
       "  <div class=\"bk-root\" id=\"560ec183-0169-4376-ba92-9ad64308b17d\" data-root-id=\"1089\"></div>\n"
      ]
     },
     "metadata": {},
     "output_type": "display_data"
    },
    {
     "data": {
      "application/javascript": [
       "(function(root) {\n",
       "  function embed_document(root) {\n",
       "    \n",
       "  var docs_json = {\"92c74915-d5ce-41a9-99d5-e313982dac47\":{\"roots\":{\"references\":[{\"attributes\":{\"below\":[{\"id\":\"1100\"}],\"center\":[{\"id\":\"1103\"},{\"id\":\"1107\"},{\"id\":\"1126\"}],\"left\":[{\"id\":\"1104\"}],\"plot_height\":350,\"renderers\":[{\"id\":\"1117\"}],\"title\":{\"id\":\"1090\"},\"toolbar\":{\"id\":\"1109\"},\"toolbar_location\":null,\"x_range\":{\"id\":\"1092\"},\"x_scale\":{\"id\":\"1096\"},\"y_range\":{\"id\":\"1094\"},\"y_scale\":{\"id\":\"1098\"}},\"id\":\"1089\",\"subtype\":\"Figure\",\"type\":\"Plot\"},{\"attributes\":{\"items\":[{\"id\":\"1127\"}]},\"id\":\"1126\",\"type\":\"Legend\"},{\"attributes\":{\"axis_label\":null,\"formatter\":{\"id\":\"1120\"},\"ticker\":{\"id\":\"1105\"},\"visible\":false},\"id\":\"1104\",\"type\":\"LinearAxis\"},{\"attributes\":{},\"id\":\"1096\",\"type\":\"LinearScale\"},{\"attributes\":{},\"id\":\"1098\",\"type\":\"LinearScale\"},{\"attributes\":{},\"id\":\"1125\",\"type\":\"Selection\"},{\"attributes\":{\"field\":\"angle\",\"include_zero\":true},\"id\":\"1111\",\"type\":\"CumSum\"},{\"attributes\":{},\"id\":\"1094\",\"type\":\"DataRange1d\"},{\"attributes\":{\"data\":{\"angle\":{\"__ndarray__\":\"llSlB8cUDkCoCqQiinz3P5SwTxYaeNE/zCgcM50H6T8=\",\"dtype\":\"float64\",\"order\":\"little\",\"shape\":[4]},\"color\":[\"#00204C\",\"#565C6C\",\"#A69C75\",\"#FFE945\"],\"index\":[0,1,2,3],\"pos\":[\"nouns\",\"verbs\",\"adverbs\",\"adjectives\"],\"value\":[87324,34090,6339,18165]},\"selected\":{\"id\":\"1125\"},\"selection_policy\":{\"id\":\"1124\"}},\"id\":\"1113\",\"type\":\"ColumnDataSource\"},{\"attributes\":{},\"id\":\"1120\",\"type\":\"BasicTickFormatter\"},{\"attributes\":{\"active_drag\":\"auto\",\"active_inspect\":\"auto\",\"active_multi\":null,\"active_scroll\":\"auto\",\"active_tap\":\"auto\",\"tools\":[{\"id\":\"1108\"}]},\"id\":\"1109\",\"type\":\"Toolbar\"},{\"attributes\":{\"axis_label\":null,\"formatter\":{\"id\":\"1122\"},\"ticker\":{\"id\":\"1101\"},\"visible\":false},\"id\":\"1100\",\"type\":\"LinearAxis\"},{\"attributes\":{\"source\":{\"id\":\"1113\"}},\"id\":\"1118\",\"type\":\"CDSView\"},{\"attributes\":{},\"id\":\"1101\",\"type\":\"BasicTicker\"},{\"attributes\":{\"data_source\":{\"id\":\"1113\"},\"glyph\":{\"id\":\"1115\"},\"hover_glyph\":null,\"muted_glyph\":null,\"nonselection_glyph\":{\"id\":\"1116\"},\"selection_glyph\":null,\"view\":{\"id\":\"1118\"}},\"id\":\"1117\",\"type\":\"GlyphRenderer\"},{\"attributes\":{\"start\":-0.5},\"id\":\"1092\",\"type\":\"Range1d\"},{\"attributes\":{\"end_angle\":{\"expr\":{\"id\":\"1112\"},\"units\":\"rad\"},\"fill_color\":{\"field\":\"color\"},\"line_color\":{\"value\":\"white\"},\"radius\":{\"units\":\"data\",\"value\":0.4},\"start_angle\":{\"expr\":{\"id\":\"1111\"},\"units\":\"rad\"},\"x\":{\"value\":0},\"y\":{\"value\":1}},\"id\":\"1115\",\"type\":\"Wedge\"},{\"attributes\":{},\"id\":\"1122\",\"type\":\"BasicTickFormatter\"},{\"attributes\":{\"field\":\"angle\"},\"id\":\"1112\",\"type\":\"CumSum\"},{\"attributes\":{\"axis\":{\"id\":\"1100\"},\"grid_line_color\":null,\"ticker\":null},\"id\":\"1103\",\"type\":\"Grid\"},{\"attributes\":{},\"id\":\"1124\",\"type\":\"UnionRenderers\"},{\"attributes\":{\"label\":{\"field\":\"pos\"},\"renderers\":[{\"id\":\"1117\"}]},\"id\":\"1127\",\"type\":\"LegendItem\"},{\"attributes\":{\"axis\":{\"id\":\"1104\"},\"dimension\":1,\"grid_line_color\":null,\"ticker\":null},\"id\":\"1107\",\"type\":\"Grid\"},{\"attributes\":{},\"id\":\"1105\",\"type\":\"BasicTicker\"},{\"attributes\":{\"callback\":null,\"tooltips\":\"@pos: @value\"},\"id\":\"1108\",\"type\":\"HoverTool\"},{\"attributes\":{\"text\":\"Frequency of each pos type\"},\"id\":\"1090\",\"type\":\"Title\"},{\"attributes\":{\"end_angle\":{\"expr\":{\"id\":\"1112\"},\"units\":\"rad\"},\"fill_alpha\":{\"value\":0.1},\"fill_color\":{\"field\":\"color\"},\"line_alpha\":{\"value\":0.1},\"line_color\":{\"value\":\"white\"},\"radius\":{\"units\":\"data\",\"value\":0.4},\"start_angle\":{\"expr\":{\"id\":\"1111\"},\"units\":\"rad\"},\"x\":{\"value\":0},\"y\":{\"value\":1}},\"id\":\"1116\",\"type\":\"Wedge\"}],\"root_ids\":[\"1089\"]},\"title\":\"Bokeh Application\",\"version\":\"2.2.3\"}};\n",
       "  var render_items = [{\"docid\":\"92c74915-d5ce-41a9-99d5-e313982dac47\",\"root_ids\":[\"1089\"],\"roots\":{\"1089\":\"560ec183-0169-4376-ba92-9ad64308b17d\"}}];\n",
       "  root.Bokeh.embed.embed_items_notebook(docs_json, render_items);\n",
       "\n",
       "  }\n",
       "  if (root.Bokeh !== undefined) {\n",
       "    embed_document(root);\n",
       "  } else {\n",
       "    var attempts = 0;\n",
       "    var timer = setInterval(function(root) {\n",
       "      if (root.Bokeh !== undefined) {\n",
       "        clearInterval(timer);\n",
       "        embed_document(root);\n",
       "      } else {\n",
       "        attempts++;\n",
       "        if (attempts > 100) {\n",
       "          clearInterval(timer);\n",
       "          console.log(\"Bokeh: ERROR: Unable to run BokehJS code because BokehJS library is missing\");\n",
       "        }\n",
       "      }\n",
       "    }, 10, root)\n",
       "  }\n",
       "})(window);"
      ],
      "application/vnd.bokehjs_exec.v0+json": ""
     },
     "metadata": {
      "application/vnd.bokehjs_exec.v0+json": {
       "id": "1089"
      }
     },
     "output_type": "display_data"
    }
   ],
   "source": [
    "#data = pd.DataFrame({\"pos\": [\"nouns\", \"verbs\"], \"value\" : [len(all_nouns), len(all_verbs)]})\n",
    "data_viz['angle'] = data_viz['value']/data_viz['value'].sum() * 2*pi\n",
    "data_viz['color'] = cividis(4)\n",
    "\n",
    "p = figure(plot_height=350, title=\"Frequency of each pos type\", toolbar_location=None,\n",
    "           tools=\"hover\", tooltips=\"@pos: @value\", x_range=(-0.5, 1.0))\n",
    "\n",
    "p.wedge(x=0, y=1, radius=0.4,\n",
    "        start_angle=cumsum('angle', include_zero=True), end_angle=cumsum('angle'),\n",
    "        line_color=\"white\", fill_color='color', legend_field='pos', source=data_viz)\n",
    "\n",
    "p.axis.axis_label=None\n",
    "p.axis.visible=False\n",
    "p.grid.grid_line_color = None\n",
    "\n",
    "show(p)"
   ]
  },
  {
   "cell_type": "markdown",
   "metadata": {},
   "source": [
    "## Named Enetity Recognition "
   ]
  },
  {
   "cell_type": "markdown",
   "metadata": {},
   "source": [
    "### visualising named entities "
   ]
  },
  {
   "cell_type": "code",
   "execution_count": 47,
   "metadata": {},
   "outputs": [
    {
     "name": "stderr",
     "output_type": "stream",
     "text": [
      "/Users/user/Library/Python/3.8/lib/python/site-packages/ipykernel/ipkernel.py:283: DeprecationWarning: `should_run_async` will not call `transform_cell` automatically in the future. Please pass the result to `transformed_cell` argument and any exception that happen during thetransform in `preprocessing_exc_tuple` in IPython 7.17 and above.\n",
      "  and should_run_async(code)\n",
      "/Users/user/Library/Python/3.8/lib/python/site-packages/spacy/displacy/__init__.py:94: UserWarning: [W011] It looks like you're calling displacy.serve from within a Jupyter notebook or a similar environment. This likely means you're already running a local web server, so there's no need to make displaCy start another one. Instead, you should be able to replace displacy.serve with displacy.render to show the visualization.\n",
      "  warnings.warn(Warnings.W011)\n"
     ]
    },
    {
     "data": {
      "text/html": [
       "<span class=\"tex2jax_ignore\"><!DOCTYPE html>\n",
       "<html lang=\"en\">\n",
       "    <head>\n",
       "        <title>displaCy</title>\n",
       "    </head>\n",
       "\n",
       "    <body style=\"font-size: 16px; font-family: -apple-system, BlinkMacSystemFont, 'Segoe UI', Helvetica, Arial, sans-serif, 'Apple Color Emoji', 'Segoe UI Emoji', 'Segoe UI Symbol'; padding: 4rem 2rem; direction: ltr\">\n",
       "<figure style=\"margin-bottom: 6rem\">\n",
       "<div class=\"entities\" style=\"line-height: 2.5; direction: ltr\">\n",
       "<mark class=\"entity\" style=\"background: #feca74; padding: 0.45em 0.6em; margin: 0 0.25em; line-height: 1; border-radius: 0.35em;\">\n",
       "    UK\n",
       "    <span style=\"font-size: 0.8em; font-weight: bold; line-height: 1; border-radius: 0.35em; text-transform: uppercase; vertical-align: middle; margin-left: 0.5rem\">GPE</span>\n",
       "</mark>\n",
       " housebuilders will need government support, says \n",
       "<mark class=\"entity\" style=\"background: #7aecec; padding: 0.45em 0.6em; margin: 0 0.25em; line-height: 1; border-radius: 0.35em;\">\n",
       "    Berkeley\n",
       "    <span style=\"font-size: 0.8em; font-weight: bold; line-height: 1; border-radius: 0.35em; text-transform: uppercase; vertical-align: middle; margin-left: 0.5rem\">ORG</span>\n",
       "</mark>\n",
       ".  CEO says construction sector requires help if \n",
       "<mark class=\"entity\" style=\"background: #feca74; padding: 0.45em 0.6em; margin: 0 0.25em; line-height: 1; border-radius: 0.35em;\">\n",
       "    UK\n",
       "    <span style=\"font-size: 0.8em; font-weight: bold; line-height: 1; border-radius: 0.35em; text-transform: uppercase; vertical-align: middle; margin-left: 0.5rem\">GPE</span>\n",
       "</mark>\n",
       " economy is to recover from Covid-19 crisis </div>\n",
       "</figure>\n",
       "</body>\n",
       "</html></span>"
      ],
      "text/plain": [
       "<IPython.core.display.HTML object>"
      ]
     },
     "metadata": {},
     "output_type": "display_data"
    },
    {
     "name": "stdout",
     "output_type": "stream",
     "text": [
      "\n",
      "Using the 'ent' visualizer\n",
      "Serving on http://0.0.0.0:5000 ...\n",
      "\n",
      "Shutting down server on port 5000.\n"
     ]
    }
   ],
   "source": [
    "from spacy import displacy\n",
    "text = df['title_subtitle'].tolist()[3703]\n",
    "doc = nlp(text)\n",
    "displacy.serve(doc, style=\"ent\")"
   ]
  },
  {
   "cell_type": "code",
   "execution_count": 48,
   "metadata": {},
   "outputs": [
    {
     "name": "stderr",
     "output_type": "stream",
     "text": [
      "/Users/user/Library/Python/3.8/lib/python/site-packages/ipykernel/ipkernel.py:283: DeprecationWarning: `should_run_async` will not call `transform_cell` automatically in the future. Please pass the result to `transformed_cell` argument and any exception that happen during thetransform in `preprocessing_exc_tuple` in IPython 7.17 and above.\n",
      "  and should_run_async(code)\n"
     ]
    }
   ],
   "source": [
    "def get_all_entities(text_series, text_field):\n",
    "    df_ents_all = []\n",
    "    for text, index in zip(text_series[text_field], text_series[text_field].index):\n",
    "        doc = nlp(text)\n",
    "        ents = [(e.text, e.start_char, e.end_char, e.label_) for e in doc.ents]\n",
    "        df_ents = pd.DataFrame(ents)\n",
    "        df_ents['index'] = index\n",
    "        df_ents['text'] = text \n",
    "        df_ents_all.append(df_ents)\n",
    "    df_ents_all= pd.concat(df_ents_all)\n",
    "    df_ents_all.columns = [\"entity\", \"start_pos\", \"end_pos\", \"type\", \"index\", \"text\"]\n",
    "    return df_ents_all"
   ]
  },
  {
   "cell_type": "code",
   "execution_count": 49,
   "metadata": {},
   "outputs": [
    {
     "name": "stderr",
     "output_type": "stream",
     "text": [
      "/Users/user/Library/Python/3.8/lib/python/site-packages/ipykernel/ipkernel.py:283: DeprecationWarning: `should_run_async` will not call `transform_cell` automatically in the future. Please pass the result to `transformed_cell` argument and any exception that happen during thetransform in `preprocessing_exc_tuple` in IPython 7.17 and above.\n",
      "  and should_run_async(code)\n"
     ]
    }
   ],
   "source": [
    "df_ents_all = get_all_entities(df, 'title_subtitle')"
   ]
  },
  {
   "cell_type": "code",
   "execution_count": 50,
   "metadata": {},
   "outputs": [
    {
     "name": "stderr",
     "output_type": "stream",
     "text": [
      "/Users/user/Library/Python/3.8/lib/python/site-packages/ipykernel/ipkernel.py:283: DeprecationWarning: `should_run_async` will not call `transform_cell` automatically in the future. Please pass the result to `transformed_cell` argument and any exception that happen during thetransform in `preprocessing_exc_tuple` in IPython 7.17 and above.\n",
      "  and should_run_async(code)\n"
     ]
    },
    {
     "data": {
      "text/html": [
       "<div>\n",
       "<style scoped>\n",
       "    .dataframe tbody tr th:only-of-type {\n",
       "        vertical-align: middle;\n",
       "    }\n",
       "\n",
       "    .dataframe tbody tr th {\n",
       "        vertical-align: top;\n",
       "    }\n",
       "\n",
       "    .dataframe thead th {\n",
       "        text-align: right;\n",
       "    }\n",
       "</style>\n",
       "<table border=\"1\" class=\"dataframe\">\n",
       "  <thead>\n",
       "    <tr style=\"text-align: right;\">\n",
       "      <th></th>\n",
       "      <th>entity</th>\n",
       "      <th>start_pos</th>\n",
       "      <th>end_pos</th>\n",
       "      <th>type</th>\n",
       "      <th>index</th>\n",
       "      <th>text</th>\n",
       "    </tr>\n",
       "  </thead>\n",
       "  <tbody>\n",
       "    <tr>\n",
       "      <th>0</th>\n",
       "      <td>Wellcome Trust</td>\n",
       "      <td>139.0</td>\n",
       "      <td>153.0</td>\n",
       "      <td>ORG</td>\n",
       "      <td>society/2020/jan/18/expert-questions-effective...</td>\n",
       "      <td>Expert questions effectiveness of coronavirus ...</td>\n",
       "    </tr>\n",
       "    <tr>\n",
       "      <th>0</th>\n",
       "      <td>UK</td>\n",
       "      <td>40.0</td>\n",
       "      <td>42.0</td>\n",
       "      <td>GPE</td>\n",
       "      <td>world/2020/jan/18/no-airport-screening-for-new...</td>\n",
       "      <td>No screening for new Sars-like virus at UK air...</td>\n",
       "    </tr>\n",
       "    <tr>\n",
       "      <th>1</th>\n",
       "      <td>Coronavirus</td>\n",
       "      <td>106.0</td>\n",
       "      <td>117.0</td>\n",
       "      <td>PERSON</td>\n",
       "      <td>world/2020/jan/18/no-airport-screening-for-new...</td>\n",
       "      <td>No screening for new Sars-like virus at UK air...</td>\n",
       "    </tr>\n",
       "    <tr>\n",
       "      <th>2</th>\n",
       "      <td>1,700</td>\n",
       "      <td>139.0</td>\n",
       "      <td>144.0</td>\n",
       "      <td>CARDINAL</td>\n",
       "      <td>world/2020/jan/18/no-airport-screening-for-new...</td>\n",
       "      <td>No screening for new Sars-like virus at UK air...</td>\n",
       "    </tr>\n",
       "    <tr>\n",
       "      <th>3</th>\n",
       "      <td>China</td>\n",
       "      <td>148.0</td>\n",
       "      <td>153.0</td>\n",
       "      <td>GPE</td>\n",
       "      <td>world/2020/jan/18/no-airport-screening-for-new...</td>\n",
       "      <td>No screening for new Sars-like virus at UK air...</td>\n",
       "    </tr>\n",
       "  </tbody>\n",
       "</table>\n",
       "</div>"
      ],
      "text/plain": [
       "           entity  start_pos  end_pos      type  \\\n",
       "0  Wellcome Trust      139.0    153.0       ORG   \n",
       "0              UK       40.0     42.0       GPE   \n",
       "1     Coronavirus      106.0    117.0    PERSON   \n",
       "2           1,700      139.0    144.0  CARDINAL   \n",
       "3           China      148.0    153.0       GPE   \n",
       "\n",
       "                                               index  \\\n",
       "0  society/2020/jan/18/expert-questions-effective...   \n",
       "0  world/2020/jan/18/no-airport-screening-for-new...   \n",
       "1  world/2020/jan/18/no-airport-screening-for-new...   \n",
       "2  world/2020/jan/18/no-airport-screening-for-new...   \n",
       "3  world/2020/jan/18/no-airport-screening-for-new...   \n",
       "\n",
       "                                                text  \n",
       "0  Expert questions effectiveness of coronavirus ...  \n",
       "0  No screening for new Sars-like virus at UK air...  \n",
       "1  No screening for new Sars-like virus at UK air...  \n",
       "2  No screening for new Sars-like virus at UK air...  \n",
       "3  No screening for new Sars-like virus at UK air...  "
      ]
     },
     "execution_count": 50,
     "metadata": {},
     "output_type": "execute_result"
    }
   ],
   "source": [
    "df_ents_all.head()"
   ]
  },
  {
   "cell_type": "markdown",
   "metadata": {},
   "source": [
    "### visualise most common entities per category"
   ]
  },
  {
   "cell_type": "code",
   "execution_count": 51,
   "metadata": {},
   "outputs": [
    {
     "name": "stderr",
     "output_type": "stream",
     "text": [
      "/Users/user/Library/Python/3.8/lib/python/site-packages/ipykernel/ipkernel.py:283: DeprecationWarning: `should_run_async` will not call `transform_cell` automatically in the future. Please pass the result to `transformed_cell` argument and any exception that happen during thetransform in `preprocessing_exc_tuple` in IPython 7.17 and above.\n",
      "  and should_run_async(code)\n"
     ]
    }
   ],
   "source": [
    "ents = df_ents_all.groupby(\"entity\").nunique()[['text']]\n",
    "ents.columns =['num']\n",
    "ents = ents.sort_values(by='num', ascending=False).head(200)"
   ]
  },
  {
   "cell_type": "code",
   "execution_count": 52,
   "metadata": {},
   "outputs": [
    {
     "name": "stderr",
     "output_type": "stream",
     "text": [
      "/Users/user/Library/Python/3.8/lib/python/site-packages/ipykernel/ipkernel.py:283: DeprecationWarning: `should_run_async` will not call `transform_cell` automatically in the future. Please pass the result to `transformed_cell` argument and any exception that happen during thetransform in `preprocessing_exc_tuple` in IPython 7.17 and above.\n",
      "  and should_run_async(code)\n"
     ]
    }
   ],
   "source": [
    "df_ents_top = ents.join(df_ents_all.drop_duplicates(subset=['entity'])[['entity', 'type']].set_index(\"entity\")).reset_index()"
   ]
  },
  {
   "cell_type": "code",
   "execution_count": 53,
   "metadata": {},
   "outputs": [
    {
     "name": "stderr",
     "output_type": "stream",
     "text": [
      "/Users/user/Library/Python/3.8/lib/python/site-packages/ipykernel/ipkernel.py:283: DeprecationWarning: `should_run_async` will not call `transform_cell` automatically in the future. Please pass the result to `transformed_cell` argument and any exception that happen during thetransform in `preprocessing_exc_tuple` in IPython 7.17 and above.\n",
      "  and should_run_async(code)\n"
     ]
    }
   ],
   "source": [
    "df_ent= df_ents_top[1:].copy()\n",
    "group_ent = df_ent.groupby(['type', 'entity'])\n",
    "index_cmap_ent = factor_cmap('type_entity', \n",
    "                             palette=cividis(len(df_ents_top[\"type\"].unique())), \n",
    "                             factors=df_ents_top[\"type\"].unique(), end=1)"
   ]
  },
  {
   "cell_type": "code",
   "execution_count": 54,
   "metadata": {},
   "outputs": [
    {
     "name": "stderr",
     "output_type": "stream",
     "text": [
      "/Users/user/Library/Python/3.8/lib/python/site-packages/ipykernel/ipkernel.py:283: DeprecationWarning: `should_run_async` will not call `transform_cell` automatically in the future. Please pass the result to `transformed_cell` argument and any exception that happen during thetransform in `preprocessing_exc_tuple` in IPython 7.17 and above.\n",
      "  and should_run_async(code)\n"
     ]
    },
    {
     "data": {
      "text/html": [
       "\n",
       "\n",
       "\n",
       "\n",
       "\n",
       "\n",
       "  <div class=\"bk-root\" id=\"25d87bfe-1a14-43e0-ab87-8b6c17fc240c\" data-root-id=\"1179\"></div>\n"
      ]
     },
     "metadata": {},
     "output_type": "display_data"
    },
    {
     "data": {
      "application/javascript": [
       "(function(root) {\n",
       "  function embed_document(root) {\n",
       "    \n",
       "  var docs_json = {\"02650d0f-4e74-4848-8ede-0aa1212e205f\":{\"roots\":{\"references\":[{\"attributes\":{\"background_fill_color\":\"#2b2b2b\",\"below\":[{\"id\":\"1190\"}],\"center\":[{\"id\":\"1192\"},{\"id\":\"1196\"}],\"left\":[{\"id\":\"1193\"}],\"outline_line_color\":null,\"plot_width\":2200,\"renderers\":[{\"id\":\"1217\"}],\"title\":{\"id\":\"1180\"},\"toolbar\":{\"id\":\"1205\"},\"toolbar_location\":null,\"x_range\":{\"id\":\"1182\"},\"x_scale\":{\"id\":\"1186\"},\"y_range\":{\"id\":\"1184\"},\"y_scale\":{\"id\":\"1188\"}},\"id\":\"1179\",\"subtype\":\"Figure\",\"type\":\"Plot\"},{\"attributes\":{},\"id\":\"1186\",\"type\":\"CategoricalScale\"},{\"attributes\":{\"formatter\":{\"id\":\"1235\"},\"ticker\":{\"id\":\"1194\"}},\"id\":\"1193\",\"type\":\"LinearAxis\"},{\"attributes\":{},\"id\":\"1239\",\"type\":\"UnionRenderers\"},{\"attributes\":{},\"id\":\"1200\",\"type\":\"SaveTool\"},{\"attributes\":{},\"id\":\"1235\",\"type\":\"BasicTickFormatter\"},{\"attributes\":{\"axis_label\":\"Most common entities by type\",\"formatter\":{\"id\":\"1237\"},\"major_label_orientation\":1.5,\"ticker\":{\"id\":\"1191\"}},\"id\":\"1190\",\"type\":\"CategoricalAxis\"},{\"attributes\":{\"source\":{\"id\":\"1213\"}},\"id\":\"1218\",\"type\":\"CDSView\"},{\"attributes\":{\"fill_alpha\":{\"value\":0.1},\"fill_color\":{\"field\":\"type_entity\",\"transform\":{\"id\":\"1178\"}},\"line_alpha\":{\"value\":0.1},\"line_color\":{\"value\":\"white\"},\"top\":{\"field\":\"num_mean\"},\"width\":{\"value\":1},\"x\":{\"field\":\"type_entity\"}},\"id\":\"1216\",\"type\":\"VBar\"},{\"attributes\":{\"end\":1,\"factors\":[\"GPE\",\"PERSON\",\"ORG\",\"ORDINAL\",\"NORP\",\"LOC\",\"CARDINAL\",\"DATE\",\"LANGUAGE\",\"TIME\",\"MONEY\",\"WORK_OF_ART\",\"PRODUCT\",\"PERCENT\"],\"palette\":[\"#00204C\",\"#002D6D\",\"#1C3B6C\",\"#3A496B\",\"#4F576C\",\"#62656F\",\"#737374\",\"#858278\",\"#989177\",\"#ACA173\",\"#C1B26C\",\"#D6C363\",\"#EDD654\",\"#FFE945\"]},\"id\":\"1178\",\"type\":\"CategoricalColorMapper\"},{\"attributes\":{\"factors\":[[\"CARDINAL\",\"1\"],[\"CARDINAL\",\"1,000\"],[\"CARDINAL\",\"10\"],[\"CARDINAL\",\"10,000\"],[\"CARDINAL\",\"100,000\"],[\"CARDINAL\",\"2\"],[\"CARDINAL\",\"20\"],[\"CARDINAL\",\"3\"],[\"CARDINAL\",\"30\"],[\"CARDINAL\",\"5\"],[\"CARDINAL\",\"50\"],[\"CARDINAL\",\"500\"],[\"CARDINAL\",\"Five\"],[\"CARDINAL\",\"Half\"],[\"CARDINAL\",\"Millions\"],[\"CARDINAL\",\"One\"],[\"CARDINAL\",\"Thousands\"],[\"CARDINAL\",\"Three\"],[\"CARDINAL\",\"Two\"],[\"CARDINAL\",\"billions\"],[\"CARDINAL\",\"eight\"],[\"CARDINAL\",\"five\"],[\"CARDINAL\",\"four\"],[\"CARDINAL\",\"half\"],[\"CARDINAL\",\"hundreds\"],[\"CARDINAL\",\"millions\"],[\"CARDINAL\",\"one\"],[\"CARDINAL\",\"six\"],[\"CARDINAL\",\"tens of thousands\"],[\"CARDINAL\",\"thousands\"],[\"CARDINAL\",\"three\"],[\"CARDINAL\",\"two\"],[\"CARDINAL\",\"zero\"],[\"DATE\",\"1 June\"],[\"DATE\",\"14 days\"],[\"DATE\",\"14-day\"],[\"DATE\",\"2008\"],[\"DATE\",\"2020\"],[\"DATE\",\"2021\"],[\"DATE\",\"April\"],[\"DATE\",\"August\"],[\"DATE\",\"Christmas\"],[\"DATE\",\"Friday\"],[\"DATE\",\"July\"],[\"DATE\",\"June\"],[\"DATE\",\"March\"],[\"DATE\",\"May\"],[\"DATE\",\"Monday\"],[\"DATE\",\"October\"],[\"DATE\",\"Saturday\"],[\"DATE\",\"September\"],[\"DATE\",\"Sunak\"],[\"DATE\",\"This week\"],[\"DATE\",\"Thursday\"],[\"DATE\",\"a week\"],[\"DATE\",\"daily\"],[\"DATE\",\"day\"],[\"DATE\",\"days\"],[\"DATE\",\"months\"],[\"DATE\",\"next week\"],[\"DATE\",\"summer\"],[\"DATE\",\"this summer\"],[\"DATE\",\"this week\"],[\"DATE\",\"this year\"],[\"DATE\",\"three months\"],[\"DATE\",\"today\"],[\"DATE\",\"two weeks\"],[\"DATE\",\"week\"],[\"DATE\",\"weekly\"],[\"DATE\",\"weeks\"],[\"DATE\",\"winter\"],[\"DATE\",\"years\"],[\"GPE\",\"Beijing\"],[\"GPE\",\"Belgium\"],[\"GPE\",\"Birmingham\"],[\"GPE\",\"Brazil\"],[\"GPE\",\"Brexit\"],[\"GPE\",\"Britain\"],[\"GPE\",\"Britons\"],[\"GPE\",\"China\"],[\"GPE\",\"Commons\"],[\"GPE\",\"England\"],[\"GPE\",\"Exclusive:</strong\"],[\"GPE\",\"France\"],[\"GPE\",\"Germany\"],[\"GPE\",\"Greece\"],[\"GPE\",\"Hancock\"],[\"GPE\",\"Hong Kong\"],[\"GPE\",\"India\"],[\"GPE\",\"Iran\"],[\"GPE\",\"Ireland\"],[\"GPE\",\"Italy\"],[\"GPE\",\"Japan\"],[\"GPE\",\"London\"],[\"GPE\",\"New Zealand\"],[\"GPE\",\"Northern Ireland\"],[\"GPE\",\"Portugal\"],[\"GPE\",\"Russia\"],[\"GPE\",\"Scotland\"],[\"GPE\",\"South Korea\"],[\"GPE\",\"Spain\"],[\"GPE\",\"Sweden\"],[\"GPE\",\"US\"],[\"GPE\",\"Wales\"],[\"GPE\",\"Wuhan\"],[\"LANGUAGE\",\"English\"],[\"LOC\",\"Africa\"],[\"LOC\",\"Dominic Raab\"],[\"LOC\",\"Editorial:</strong\"],[\"LOC\",\"Europe\"],[\"LOC\",\"Manchester\"],[\"MONEY\",\"100\"],[\"MONEY\",\"200\"],[\"NORP\",\"Asian\"],[\"NORP\",\"British\"],[\"NORP\",\"Chinese\"],[\"NORP\",\"European\"],[\"NORP\",\"French\"],[\"NORP\",\"German\"],[\"NORP\",\"Italian\"],[\"NORP\",\"Readers\"],[\"NORP\",\"Scottish\"],[\"NORP\",\"Spanish\"],[\"NORP\",\"Tories\"],[\"ORDINAL\",\"First\"],[\"ORDINAL\",\"first\"],[\"ORDINAL\",\"second\"],[\"ORDINAL\",\"third\"],[\"ORG\",\"Airbus\"],[\"ORG\",\"Amazon\"],[\"ORG\",\"BAME\"],[\"ORG\",\"BBC\"],[\"ORG\",\"Bank\"],[\"ORG\",\"Bank of England\"],[\"ORG\",\"Boohoo\"],[\"ORG\",\"Brief\"],[\"ORG\",\"British Airways\"],[\"ORG\",\"CBI\"],[\"ORG\",\"Dominic Cummings\"],[\"ORG\",\"EU\"],[\"ORG\",\"FTSE\"],[\"ORG\",\"Facebook\"],[\"ORG\",\"Foreign Office\"],[\"ORG\",\"Glasgow\"],[\"ORG\",\"Guardian\"],[\"ORG\",\"Home Office\"],[\"ORG\",\"Labour\"],[\"ORG\",\"Letters:</strong\"],[\"ORG\",\"NHS\"],[\"ORG\",\"Nicola Sturgeon\"],[\"ORG\",\"ONS\"],[\"ORG\",\"Oxford\"],[\"ORG\",\"PPE\"],[\"ORG\",\"Rolls-Royce\"],[\"ORG\",\"Ryanair\"],[\"ORG\",\"Starmer\"],[\"ORG\",\"Treasury\"],[\"ORG\",\"UN\"],[\"ORG\",\"VAT\"],[\"ORG\",\"WHO\"],[\"ORG\",\"Welsh\"],[\"ORG\",\"app\"],[\"PERCENT\",\"80%\"],[\"PERCENT\",\"90%\"],[\"PERSON\",\"Boris\"],[\"PERSON\",\"Boris Johnson\"],[\"PERSON\",\"Boris Johnson's\"],[\"PERSON\",\"Boris Johnson\\u2019s\"],[\"PERSON\",\"Coronavirus\"],[\"PERSON\",\"Covid\"],[\"PERSON\",\"Devi Sridhar\"],[\"PERSON\",\"Donald Trump\"],[\"PERSON\",\"Frances Ryan\"],[\"PERSON\",\"George Monbiot\"],[\"PERSON\",\"Grant Shapps\"],[\"PERSON\",\"John Crace\"],[\"PERSON\",\"John Harris\"],[\"PERSON\",\"Johnson\"],[\"PERSON\",\"Keir Starmer\"],[\"PERSON\",\"Larry Elliott\"],[\"PERSON\",\"Liverpool\"],[\"PERSON\",\"Marina Hyde\"],[\"PERSON\",\"Matt Hancock\"],[\"PERSON\",\"Neil Ferguson\"],[\"PERSON\",\"Nesrine Malik\"],[\"PERSON\",\"Polly Toynbee\"],[\"PERSON\",\"Raab\"],[\"PERSON\",\"Rishi Sunak\"],[\"PERSON\",\"Sadiq Khan\"],[\"PERSON\",\"Sage\"],[\"PERSON\",\"Simon Jenkins\"],[\"PERSON\",\"Tory\"],[\"PERSON\",\"Trump\"],[\"PERSON\",\"Zoom\"],[\"PERSON\",\"| John Crace\"],[\"PERSON\",\"| John Harris\"],[\"PRODUCT\",\"Westminster\"],[\"TIME\",\"PM\"],[\"WORK_OF_ART\",\"| Nils Pratley\"]],\"range_padding\":0.05},\"id\":\"1182\",\"type\":\"FactorRange\"},{\"attributes\":{},\"id\":\"1197\",\"type\":\"PanTool\"},{\"attributes\":{},\"id\":\"1201\",\"type\":\"ResetTool\"},{\"attributes\":{},\"id\":\"1202\",\"type\":\"HelpTool\"},{\"attributes\":{\"axis\":{\"id\":\"1193\"},\"dimension\":1,\"ticker\":null},\"id\":\"1196\",\"type\":\"Grid\"},{\"attributes\":{},\"id\":\"1188\",\"type\":\"LinearScale\"},{\"attributes\":{},\"id\":\"1191\",\"type\":\"CategoricalTicker\"},{\"attributes\":{},\"id\":\"1194\",\"type\":\"BasicTicker\"},{\"attributes\":{},\"id\":\"1198\",\"type\":\"WheelZoomTool\"},{\"attributes\":{\"overlay\":{\"id\":\"1203\"}},\"id\":\"1199\",\"type\":\"BoxZoomTool\"},{\"attributes\":{\"active_drag\":\"auto\",\"active_inspect\":\"auto\",\"active_multi\":null,\"active_scroll\":\"auto\",\"active_tap\":\"auto\",\"tools\":[{\"id\":\"1197\"},{\"id\":\"1198\"},{\"id\":\"1199\"},{\"id\":\"1200\"},{\"id\":\"1201\"},{\"id\":\"1202\"},{\"id\":\"1204\"}]},\"id\":\"1205\",\"type\":\"Toolbar\"},{\"attributes\":{},\"id\":\"1240\",\"type\":\"Selection\"},{\"attributes\":{\"axis\":{\"id\":\"1190\"},\"grid_line_color\":null,\"ticker\":null},\"id\":\"1192\",\"type\":\"Grid\"},{\"attributes\":{\"fill_color\":{\"field\":\"type_entity\",\"transform\":{\"id\":\"1178\"}},\"line_color\":{\"value\":\"white\"},\"top\":{\"field\":\"num_mean\"},\"width\":{\"value\":1},\"x\":{\"field\":\"type_entity\"}},\"id\":\"1215\",\"type\":\"VBar\"},{\"attributes\":{},\"id\":\"1237\",\"type\":\"CategoricalTickFormatter\"},{\"attributes\":{\"start\":0},\"id\":\"1184\",\"type\":\"DataRange1d\"},{\"attributes\":{\"callback\":null,\"tooltips\":[[\"Num\",\"@num_mean\"],[\"Entity type, entity\",\"@type_entity\"]]},\"id\":\"1204\",\"type\":\"HoverTool\"},{\"attributes\":{\"text\":\"Most frequent named entities per category\"},\"id\":\"1180\",\"type\":\"Title\"},{\"attributes\":{\"bottom_units\":\"screen\",\"fill_alpha\":0.5,\"fill_color\":\"lightgrey\",\"left_units\":\"screen\",\"level\":\"overlay\",\"line_alpha\":1.0,\"line_color\":\"black\",\"line_dash\":[4,4],\"line_width\":2,\"right_units\":\"screen\",\"top_units\":\"screen\"},\"id\":\"1203\",\"type\":\"BoxAnnotation\"},{\"attributes\":{\"data_source\":{\"id\":\"1213\"},\"glyph\":{\"id\":\"1215\"},\"hover_glyph\":null,\"muted_glyph\":null,\"nonselection_glyph\":{\"id\":\"1216\"},\"selection_glyph\":null,\"view\":{\"id\":\"1218\"}},\"id\":\"1217\",\"type\":\"GlyphRenderer\"},{\"attributes\":{\"data\":{\"num_25%\":{\"__ndarray__\":\"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\",\"dtype\":\"float64\",\"order\":\"little\",\"shape\":[199]},\"num_50%\":{\"__ndarray__\":\"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\",\"dtype\":\"float64\",\"order\":\"little\",\"shape\":[199]},\"num_75%\":{\"__ndarray__\":\"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\",\"dtype\":\"float64\",\"order\":\"little\",\"shape\":[199]},\"num_count\":{\"__ndarray__\":\"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\",\"dtype\":\"float64\",\"order\":\"little\",\"shape\":[199]},\"num_max\":{\"__ndarray__\":\"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\",\"dtype\":\"float64\",\"order\":\"little\",\"shape\":[199]},\"num_mean\":{\"__ndarray__\":\"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\",\"dtype\":\"float64\",\"order\":\"little\",\"shape\":[199]},\"num_min\":{\"__ndarray__\":\"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\",\"dtype\":\"float64\",\"order\":\"little\",\"shape\":[199]},\"num_std\":{\"__ndarray__\":\"AAAAAAAA+H8AAAAAAAD4fwAAAAAAAPh/AAAAAAAA+H8AAAAAAAD4fwAAAAAAAPh/AAAAAAAA+H8AAAAAAAD4fwAAAAAAAPh/AAAAAAAA+H8AAAAAAAD4fwAAAAAAAPh/AAAAAAAA+H8AAAAAAAD4fwAAAAAAAPh/AAAAAAAA+H8AAAAAAAD4fwAAAAAAAPh/AAAAAAAA+H8AAAAAAAD4fwAAAAAAAPh/AAAAAAAA+H8AAAAAAAD4fwAAAAAAAPh/AAAAAAAA+H8AAAAAAAD4fwAAAAAAAPh/AAAAAAAA+H8AAAAAAAD4fwAAAAAAAPh/AAAAAAAA+H8AAAAAAAD4fwAAAAAAAPh/AAAAAAAA+H8AAAAAAAD4fwAAAAAAAPh/AAAAAAAA+H8AAAAAAAD4fwAAAAAAAPh/AAAAAAAA+H8AAAAAAAD4fwAAAAAAAPh/AAAAAAAA+H8AAAAAAAD4fwAAAAAAAPh/AAAAAAAA+H8AAAAAAAD4fwAAAAAAAPh/AAAAAAAA+H8AAAAAAAD4fwAAAAAAAPh/AAAAAAAA+H8AAAAAAAD4fwAAAAAAAPh/AAAAAAAA+H8AAAAAAAD4fwAAAAAAAPh/AAAAAAAA+H8AAAAAAAD4fwAAAAAAAPh/AAAAAAAA+H8AAAAAAAD4fwAAAAAAAPh/AAAAAAAA+H8AAAAAAAD4fwAAAAAAAPh/AAAAAAAA+H8AAAAAAAD4fwAAAAAAAPh/AAAAAAAA+H8AAAAAAAD4fwAAAAAAAPh/AAAAAAAA+H8AAAAAAAD4fwAAAAAAAPh/AAAAAAAA+H8AAAAAAAD4fwAAAAAAAPh/AAAAAAAA+H8AAAAAAAD4fwAAAAAAAPh/AAAAAAAA+H8AAAAAAAD4fwAAAAAAAPh/AAAAAAAA+H8AAAAAAAD4fwAAAAAAAPh/AAAAAAAA+H8AAAAAAAD4fwAAAAAAAPh/AAAAAAAA+H8AAAAAAAD4fwAAAAAAAPh/AAAAAAAA+H8AAAAAAAD4fwAAAAAAAPh/AAAAAAAA+H8AAAAAAAD4fwAAAAAAAPh/AAAAAAAA+H8AAAAAAAD4fwAAAAAAAPh/AAAAAAAA+H8AAAAAAAD4fwAAAAAAAPh/AAAAAAAA+H8AAAAAAAD4fwAAAAAAAPh/AAAAAAAA+H8AAAAAAAD4fwAAAAAAAPh/AAAAAAAA+H8AAAAAAAD4fwAAAAAAAPh/AAAAAAAA+H8AAAAAAAD4fwAAAAAAAPh/AAAAAAAA+H8AAAAAAAD4fwAAAAAAAPh/AAAAAAAA+H8AAAAAAAD4fwAAAAAAAPh/AAAAAAAA+H8AAAAAAAD4fwAAAAAAAPh/AAAAAAAA+H8AAAAAAAD4fwAAAAAAAPh/AAAAAAAA+H8AAAAAAAD4fwAAAAAAAPh/AAAAAAAA+H8AAAAAAAD4fwAAAAAAAPh/AAAAAAAA+H8AAAAAAAD4fwAAAAAAAPh/AAAAAAAA+H8AAAAAAAD4fwAAAAAAAPh/AAAAAAAA+H8AAAAAAAD4fwAAAAAAAPh/AAAAAAAA+H8AAAAAAAD4fwAAAAAAAPh/AAAAAAAA+H8AAAAAAAD4fwAAAAAAAPh/AAAAAAAA+H8AAAAAAAD4fwAAAAAAAPh/AAAAAAAA+H8AAAAAAAD4fwAAAAAAAPh/AAAAAAAA+H8AAAAAAAD4fwAAAAAAAPh/AAAAAAAA+H8AAAAAAAD4fwAAAAAAAPh/AAAAAAAA+H8AAAAAAAD4fwAAAAAAAPh/AAAAAAAA+H8AAAAAAAD4fwAAAAAAAPh/AAAAAAAA+H8AAAAAAAD4fwAAAAAAAPh/AAAAAAAA+H8AAAAAAAD4fwAAAAAAAPh/AAAAAAAA+H8AAAAAAAD4fwAAAAAAAPh/AAAAAAAA+H8AAAAAAAD4fwAAAAAAAPh/AAAAAAAA+H8AAAAAAAD4fwAAAAAAAPh/AAAAAAAA+H8AAAAAAAD4fwAAAAAAAPh/AAAAAAAA+H8AAAAAAAD4fwAAAAAAAPh/AAAAAAAA+H8AAAAAAAD4fwAAAAAAAPh/AAAAAAAA+H8AAAAAAAD4fwAAAAAAAPh/AAAAAAAA+H8AAAAAAAD4fwAAAAAAAPh/AAAAAAAA+H8=\",\"dtype\":\"float64\",\"order\":\"little\",\"shape\":[199]},\"type_entity\":[[\"CARDINAL\",\"1\"],[\"CARDINAL\",\"1,000\"],[\"CARDINAL\",\"10\"],[\"CARDINAL\",\"10,000\"],[\"CARDINAL\",\"100,000\"],[\"CARDINAL\",\"2\"],[\"CARDINAL\",\"20\"],[\"CARDINAL\",\"3\"],[\"CARDINAL\",\"30\"],[\"CARDINAL\",\"5\"],[\"CARDINAL\",\"50\"],[\"CARDINAL\",\"500\"],[\"CARDINAL\",\"Five\"],[\"CARDINAL\",\"Half\"],[\"CARDINAL\",\"Millions\"],[\"CARDINAL\",\"One\"],[\"CARDINAL\",\"Thousands\"],[\"CARDINAL\",\"Three\"],[\"CARDINAL\",\"Two\"],[\"CARDINAL\",\"billions\"],[\"CARDINAL\",\"eight\"],[\"CARDINAL\",\"five\"],[\"CARDINAL\",\"four\"],[\"CARDINAL\",\"half\"],[\"CARDINAL\",\"hundreds\"],[\"CARDINAL\",\"millions\"],[\"CARDINAL\",\"one\"],[\"CARDINAL\",\"six\"],[\"CARDINAL\",\"tens of thousands\"],[\"CARDINAL\",\"thousands\"],[\"CARDINAL\",\"three\"],[\"CARDINAL\",\"two\"],[\"CARDINAL\",\"zero\"],[\"DATE\",\"1 June\"],[\"DATE\",\"14 days\"],[\"DATE\",\"14-day\"],[\"DATE\",\"2008\"],[\"DATE\",\"2020\"],[\"DATE\",\"2021\"],[\"DATE\",\"April\"],[\"DATE\",\"August\"],[\"DATE\",\"Christmas\"],[\"DATE\",\"Friday\"],[\"DATE\",\"July\"],[\"DATE\",\"June\"],[\"DATE\",\"March\"],[\"DATE\",\"May\"],[\"DATE\",\"Monday\"],[\"DATE\",\"October\"],[\"DATE\",\"Saturday\"],[\"DATE\",\"September\"],[\"DATE\",\"Sunak\"],[\"DATE\",\"This week\"],[\"DATE\",\"Thursday\"],[\"DATE\",\"a week\"],[\"DATE\",\"daily\"],[\"DATE\",\"day\"],[\"DATE\",\"days\"],[\"DATE\",\"months\"],[\"DATE\",\"next week\"],[\"DATE\",\"summer\"],[\"DATE\",\"this summer\"],[\"DATE\",\"this week\"],[\"DATE\",\"this year\"],[\"DATE\",\"three months\"],[\"DATE\",\"today\"],[\"DATE\",\"two weeks\"],[\"DATE\",\"week\"],[\"DATE\",\"weekly\"],[\"DATE\",\"weeks\"],[\"DATE\",\"winter\"],[\"DATE\",\"years\"],[\"GPE\",\"Beijing\"],[\"GPE\",\"Belgium\"],[\"GPE\",\"Birmingham\"],[\"GPE\",\"Brazil\"],[\"GPE\",\"Brexit\"],[\"GPE\",\"Britain\"],[\"GPE\",\"Britons\"],[\"GPE\",\"China\"],[\"GPE\",\"Commons\"],[\"GPE\",\"England\"],[\"GPE\",\"Exclusive:</strong\"],[\"GPE\",\"France\"],[\"GPE\",\"Germany\"],[\"GPE\",\"Greece\"],[\"GPE\",\"Hancock\"],[\"GPE\",\"Hong Kong\"],[\"GPE\",\"India\"],[\"GPE\",\"Iran\"],[\"GPE\",\"Ireland\"],[\"GPE\",\"Italy\"],[\"GPE\",\"Japan\"],[\"GPE\",\"London\"],[\"GPE\",\"New Zealand\"],[\"GPE\",\"Northern Ireland\"],[\"GPE\",\"Portugal\"],[\"GPE\",\"Russia\"],[\"GPE\",\"Scotland\"],[\"GPE\",\"South Korea\"],[\"GPE\",\"Spain\"],[\"GPE\",\"Sweden\"],[\"GPE\",\"US\"],[\"GPE\",\"Wales\"],[\"GPE\",\"Wuhan\"],[\"LANGUAGE\",\"English\"],[\"LOC\",\"Africa\"],[\"LOC\",\"Dominic Raab\"],[\"LOC\",\"Editorial:</strong\"],[\"LOC\",\"Europe\"],[\"LOC\",\"Manchester\"],[\"MONEY\",\"100\"],[\"MONEY\",\"200\"],[\"NORP\",\"Asian\"],[\"NORP\",\"British\"],[\"NORP\",\"Chinese\"],[\"NORP\",\"European\"],[\"NORP\",\"French\"],[\"NORP\",\"German\"],[\"NORP\",\"Italian\"],[\"NORP\",\"Readers\"],[\"NORP\",\"Scottish\"],[\"NORP\",\"Spanish\"],[\"NORP\",\"Tories\"],[\"ORDINAL\",\"First\"],[\"ORDINAL\",\"first\"],[\"ORDINAL\",\"second\"],[\"ORDINAL\",\"third\"],[\"ORG\",\"Airbus\"],[\"ORG\",\"Amazon\"],[\"ORG\",\"BAME\"],[\"ORG\",\"BBC\"],[\"ORG\",\"Bank\"],[\"ORG\",\"Bank of England\"],[\"ORG\",\"Boohoo\"],[\"ORG\",\"Brief\"],[\"ORG\",\"British Airways\"],[\"ORG\",\"CBI\"],[\"ORG\",\"Dominic Cummings\"],[\"ORG\",\"EU\"],[\"ORG\",\"FTSE\"],[\"ORG\",\"Facebook\"],[\"ORG\",\"Foreign Office\"],[\"ORG\",\"Glasgow\"],[\"ORG\",\"Guardian\"],[\"ORG\",\"Home Office\"],[\"ORG\",\"Labour\"],[\"ORG\",\"Letters:</strong\"],[\"ORG\",\"NHS\"],[\"ORG\",\"Nicola Sturgeon\"],[\"ORG\",\"ONS\"],[\"ORG\",\"Oxford\"],[\"ORG\",\"PPE\"],[\"ORG\",\"Rolls-Royce\"],[\"ORG\",\"Ryanair\"],[\"ORG\",\"Starmer\"],[\"ORG\",\"Treasury\"],[\"ORG\",\"UN\"],[\"ORG\",\"VAT\"],[\"ORG\",\"WHO\"],[\"ORG\",\"Welsh\"],[\"ORG\",\"app\"],[\"PERCENT\",\"80%\"],[\"PERCENT\",\"90%\"],[\"PERSON\",\"Boris\"],[\"PERSON\",\"Boris Johnson\"],[\"PERSON\",\"Boris Johnson's\"],[\"PERSON\",\"Boris Johnson\\u2019s\"],[\"PERSON\",\"Coronavirus\"],[\"PERSON\",\"Covid\"],[\"PERSON\",\"Devi Sridhar\"],[\"PERSON\",\"Donald Trump\"],[\"PERSON\",\"Frances Ryan\"],[\"PERSON\",\"George Monbiot\"],[\"PERSON\",\"Grant Shapps\"],[\"PERSON\",\"John Crace\"],[\"PERSON\",\"John Harris\"],[\"PERSON\",\"Johnson\"],[\"PERSON\",\"Keir Starmer\"],[\"PERSON\",\"Larry Elliott\"],[\"PERSON\",\"Liverpool\"],[\"PERSON\",\"Marina Hyde\"],[\"PERSON\",\"Matt Hancock\"],[\"PERSON\",\"Neil Ferguson\"],[\"PERSON\",\"Nesrine Malik\"],[\"PERSON\",\"Polly Toynbee\"],[\"PERSON\",\"Raab\"],[\"PERSON\",\"Rishi Sunak\"],[\"PERSON\",\"Sadiq Khan\"],[\"PERSON\",\"Sage\"],[\"PERSON\",\"Simon Jenkins\"],[\"PERSON\",\"Tory\"],[\"PERSON\",\"Trump\"],[\"PERSON\",\"Zoom\"],[\"PERSON\",\"| John Crace\"],[\"PERSON\",\"| John Harris\"],[\"PRODUCT\",\"Westminster\"],[\"TIME\",\"PM\"],[\"WORK_OF_ART\",\"| Nils Pratley\"]]},\"selected\":{\"id\":\"1240\"},\"selection_policy\":{\"id\":\"1239\"}},\"id\":\"1213\",\"type\":\"ColumnDataSource\"}],\"root_ids\":[\"1179\"]},\"title\":\"Bokeh Application\",\"version\":\"2.2.3\"}};\n",
       "  var render_items = [{\"docid\":\"02650d0f-4e74-4848-8ede-0aa1212e205f\",\"root_ids\":[\"1179\"],\"roots\":{\"1179\":\"25d87bfe-1a14-43e0-ab87-8b6c17fc240c\"}}];\n",
       "  root.Bokeh.embed.embed_items_notebook(docs_json, render_items);\n",
       "\n",
       "  }\n",
       "  if (root.Bokeh !== undefined) {\n",
       "    embed_document(root);\n",
       "  } else {\n",
       "    var attempts = 0;\n",
       "    var timer = setInterval(function(root) {\n",
       "      if (root.Bokeh !== undefined) {\n",
       "        clearInterval(timer);\n",
       "        embed_document(root);\n",
       "      } else {\n",
       "        attempts++;\n",
       "        if (attempts > 100) {\n",
       "          clearInterval(timer);\n",
       "          console.log(\"Bokeh: ERROR: Unable to run BokehJS code because BokehJS library is missing\");\n",
       "        }\n",
       "      }\n",
       "    }, 10, root)\n",
       "  }\n",
       "})(window);"
      ],
      "application/vnd.bokehjs_exec.v0+json": ""
     },
     "metadata": {
      "application/vnd.bokehjs_exec.v0+json": {
       "id": "1179"
      }
     },
     "output_type": "display_data"
    }
   ],
   "source": [
    "p = figure(plot_width=2200, plot_height=600, title=\"Most frequent named entities per category\",\n",
    "           x_range=group_ent, toolbar_location=None,\n",
    "          tooltips=[(\"Num\", \"@num_mean\"), (\"Entity type, entity\", \"@type_entity\")])\n",
    "\n",
    "p.vbar(x='type_entity', top='num_mean', width=1, source=group_ent,\n",
    "       line_color=\"white\", fill_color=index_cmap_ent, )\n",
    "\n",
    "p.y_range.start = 0\n",
    "p.x_range.range_padding = 0.05\n",
    "p.xgrid.grid_line_color = None\n",
    "p.xaxis.axis_label = \"Most common entities by type\"\n",
    "p.xaxis.major_label_orientation = 1.5\n",
    "p.outline_line_color = None\n",
    "p.background_fill_color = \"#2b2b2b\"\n",
    "\n",
    "show(p)"
   ]
  },
  {
   "cell_type": "markdown",
   "metadata": {},
   "source": [
    "# Sentimenet Analysis "
   ]
  },
  {
   "cell_type": "markdown",
   "metadata": {},
   "source": [
    "### Transformers Sentiment Analysis"
   ]
  }
 ],
 "metadata": {
  "kernelspec": {
   "display_name": "Python 3",
   "language": "python",
   "name": "python3"
  },
  "language_info": {
   "codemirror_mode": {
    "name": "ipython",
    "version": 3
   },
   "file_extension": ".py",
   "mimetype": "text/x-python",
   "name": "python",
   "nbconvert_exporter": "python",
   "pygments_lexer": "ipython3",
   "version": "3.8.2"
  }
 },
 "nbformat": 4,
 "nbformat_minor": 4
}
